{
 "cells": [
  {
   "cell_type": "code",
   "execution_count": 2,
   "id": "97cf272f-dd5a-4c69-99df-7ff219bcdf92",
   "metadata": {},
   "outputs": [
    {
     "name": "stderr",
     "output_type": "stream",
     "text": [
      "/opt/anaconda3/lib/python3.8/site-packages/sentence_transformers/cross_encoder/CrossEncoder.py:13: TqdmExperimentalWarning: Using `tqdm.autonotebook.tqdm` in notebook mode. Use `tqdm.tqdm` instead to force console mode (e.g. in jupyter console)\n",
      "  from tqdm.autonotebook import tqdm, trange\n"
     ]
    }
   ],
   "source": [
    "import json\n",
    "from datetime import datetime, timedelta\n",
    "import pandas as pd\n",
    "import glob\n",
    "import os\n",
    "from sentence_transformers import SentenceTransformer, util\n",
    "import torch\n",
    "import numpy as np\n",
    "from sklearn.metrics.pairwise import cosine_similarity"
   ]
  },
  {
   "cell_type": "markdown",
   "id": "62076e3f-4d13-4cb2-a49e-5cea4e5a1a7a",
   "metadata": {},
   "source": [
    "## Setting Directory"
   ]
  },
  {
   "cell_type": "code",
   "execution_count": 8,
   "id": "d0044762-f391-4297-b03d-99648c7050a2",
   "metadata": {},
   "outputs": [],
   "source": [
    "os.chdir(\"/Users/alexlin/Desktop/R For Substack/news_coverage/\")"
   ]
  },
  {
   "cell_type": "code",
   "execution_count": 9,
   "id": "f5cb42f9-3be7-4ab7-927d-b8e69291d7b1",
   "metadata": {},
   "outputs": [
    {
     "data": {
      "text/plain": [
       "'/Users/alexlin/Desktop/R For Substack/news_coverage'"
      ]
     },
     "execution_count": 9,
     "metadata": {},
     "output_type": "execute_result"
    }
   ],
   "source": [
    "os.getcwd()"
   ]
  },
  {
   "cell_type": "markdown",
   "id": "39a331fb-1ed6-427c-b156-e11977462239",
   "metadata": {},
   "source": [
    "## Importing Data"
   ]
  },
  {
   "cell_type": "code",
   "execution_count": 10,
   "id": "94142d03-0eb9-41f7-9bd5-5f5d28b7ce6f",
   "metadata": {},
   "outputs": [],
   "source": [
    "# nyt data\n",
    "nyt_mst_path = f\"data/mst/00_nyt_articles.csv\"\n",
    "nyt_articles = pd.read_csv(nyt_mst_path)\n",
    "\n",
    "# acled filtered data\n",
    "acled_mst_path = f\"data/mst/00b_acled_events_filter.csv\"\n",
    "acled_events_filter = pd.read_csv(acled_mst_path)"
   ]
  },
  {
   "cell_type": "markdown",
   "id": "ed09402c-4b00-49f9-becc-6afca83a4a41",
   "metadata": {},
   "source": [
    "## Importing NYT embeddings"
   ]
  },
  {
   "cell_type": "code",
   "execution_count": 11,
   "id": "6e3ebf71-f0e5-4c91-8f23-8b5205390077",
   "metadata": {},
   "outputs": [],
   "source": [
    "nyt_embeddings = np.load(f\"data/mst/sentence_embeddings/01_nyt_embeddings.npy\")"
   ]
  },
  {
   "cell_type": "code",
   "execution_count": 13,
   "id": "63692051-c502-45c7-9d07-81bf8994c13c",
   "metadata": {},
   "outputs": [
    {
     "data": {
      "text/plain": [
       "11818"
      ]
     },
     "execution_count": 13,
     "metadata": {},
     "output_type": "execute_result"
    }
   ],
   "source": [
    "len(nyt_embeddings)"
   ]
  },
  {
   "cell_type": "markdown",
   "id": "68f43e37-9f31-4214-9800-934bcdb60ff6",
   "metadata": {},
   "source": [
    "## Grouping ACLED events"
   ]
  },
  {
   "cell_type": "code",
   "execution_count": 14,
   "id": "d7274869-ea15-4d48-9bfe-7c796d05955a",
   "metadata": {},
   "outputs": [
    {
     "data": {
      "text/html": [
       "<div>\n",
       "<style scoped>\n",
       "    .dataframe tbody tr th:only-of-type {\n",
       "        vertical-align: middle;\n",
       "    }\n",
       "\n",
       "    .dataframe tbody tr th {\n",
       "        vertical-align: top;\n",
       "    }\n",
       "\n",
       "    .dataframe thead th {\n",
       "        text-align: right;\n",
       "    }\n",
       "</style>\n",
       "<table border=\"1\" class=\"dataframe\">\n",
       "  <thead>\n",
       "    <tr style=\"text-align: right;\">\n",
       "      <th></th>\n",
       "      <th>Unnamed: 0</th>\n",
       "      <th>event_date</th>\n",
       "      <th>year</th>\n",
       "      <th>disorder_type</th>\n",
       "      <th>event_type</th>\n",
       "      <th>sub_event_type</th>\n",
       "      <th>actor1</th>\n",
       "      <th>actor2</th>\n",
       "      <th>interaction</th>\n",
       "      <th>region</th>\n",
       "      <th>country</th>\n",
       "      <th>fatalities</th>\n",
       "      <th>notes</th>\n",
       "      <th>tags</th>\n",
       "      <th>event_index</th>\n",
       "      <th>cross_join_key</th>\n",
       "    </tr>\n",
       "  </thead>\n",
       "  <tbody>\n",
       "    <tr>\n",
       "      <th>0</th>\n",
       "      <td>58</td>\n",
       "      <td>2024-03-31</td>\n",
       "      <td>2024</td>\n",
       "      <td>Political violence</td>\n",
       "      <td>Battles</td>\n",
       "      <td>Armed clash</td>\n",
       "      <td>Murle Ethnic Militia (South Sudan)</td>\n",
       "      <td>Anyuak Ethnic Militia (South Sudan)</td>\n",
       "      <td>Identity militia-Identity militia</td>\n",
       "      <td>Eastern Africa</td>\n",
       "      <td>South Sudan</td>\n",
       "      <td>10</td>\n",
       "      <td>On 31 March 2024, suspected members of Murle a...</td>\n",
       "      <td>NaN</td>\n",
       "      <td>0</td>\n",
       "      <td>1</td>\n",
       "    </tr>\n",
       "    <tr>\n",
       "      <th>1</th>\n",
       "      <td>62</td>\n",
       "      <td>2024-03-31</td>\n",
       "      <td>2024</td>\n",
       "      <td>Political violence</td>\n",
       "      <td>Violence against civilians</td>\n",
       "      <td>Attack</td>\n",
       "      <td>Rapid Support Forces</td>\n",
       "      <td>Civilians (Sudan)</td>\n",
       "      <td>Rebel group-Civilians</td>\n",
       "      <td>Northern Africa</td>\n",
       "      <td>Sudan</td>\n",
       "      <td>9</td>\n",
       "      <td>Around 31 March 2024 (as reported), RSF attack...</td>\n",
       "      <td>NaN</td>\n",
       "      <td>1</td>\n",
       "      <td>1</td>\n",
       "    </tr>\n",
       "  </tbody>\n",
       "</table>\n",
       "</div>"
      ],
      "text/plain": [
       "   Unnamed: 0  event_date  year       disorder_type  \\\n",
       "0          58  2024-03-31  2024  Political violence   \n",
       "1          62  2024-03-31  2024  Political violence   \n",
       "\n",
       "                   event_type sub_event_type  \\\n",
       "0                     Battles    Armed clash   \n",
       "1  Violence against civilians         Attack   \n",
       "\n",
       "                               actor1                               actor2  \\\n",
       "0  Murle Ethnic Militia (South Sudan)  Anyuak Ethnic Militia (South Sudan)   \n",
       "1                Rapid Support Forces                    Civilians (Sudan)   \n",
       "\n",
       "                         interaction           region      country  \\\n",
       "0  Identity militia-Identity militia   Eastern Africa  South Sudan   \n",
       "1              Rebel group-Civilians  Northern Africa        Sudan   \n",
       "\n",
       "   fatalities                                              notes tags  \\\n",
       "0          10  On 31 March 2024, suspected members of Murle a...  NaN   \n",
       "1           9  Around 31 March 2024 (as reported), RSF attack...  NaN   \n",
       "\n",
       "   event_index  cross_join_key  \n",
       "0            0               1  \n",
       "1            1               1  "
      ]
     },
     "execution_count": 14,
     "metadata": {},
     "output_type": "execute_result"
    }
   ],
   "source": [
    "acled_events_filter.head(2)"
   ]
  },
  {
   "cell_type": "code",
   "execution_count": 84,
   "id": "8d0a3a02-03f3-4088-b0e4-0e9a2861220c",
   "metadata": {},
   "outputs": [],
   "source": [
    "acled_events_grouped = acled_events_filter.groupby(['country', 'actor1', 'actor2']).agg({\n",
    "    'fatalities': 'sum',\n",
    "    'notes': lambda x: \" \".join(x)\n",
    "})\n",
    "\n",
    "acled_events_grouped = pd.DataFrame(acled_events_grouped).reset_index()\n",
    "\n",
    "# getting rid of dates in the notes col\n",
    "\n",
    "date_pattern = \"On \\d{1,2}\\s+\\w*\\s+\\d{4}, \"\n",
    "acled_events_grouped['notes'] = acled_events_grouped['notes'].str.replace(date_pattern, '', regex=True)\n",
    "\n",
    "# setting an index/counter\n",
    "acled_events_grouped['index'] = acled_events_grouped.index"
   ]
  },
  {
   "cell_type": "code",
   "execution_count": 85,
   "id": "e1fef2e2-c13c-46cc-835d-b02abf1687f3",
   "metadata": {},
   "outputs": [
    {
     "data": {
      "text/html": [
       "<div>\n",
       "<style scoped>\n",
       "    .dataframe tbody tr th:only-of-type {\n",
       "        vertical-align: middle;\n",
       "    }\n",
       "\n",
       "    .dataframe tbody tr th {\n",
       "        vertical-align: top;\n",
       "    }\n",
       "\n",
       "    .dataframe thead th {\n",
       "        text-align: right;\n",
       "    }\n",
       "</style>\n",
       "<table border=\"1\" class=\"dataframe\">\n",
       "  <thead>\n",
       "    <tr style=\"text-align: right;\">\n",
       "      <th></th>\n",
       "      <th>country</th>\n",
       "      <th>actor1</th>\n",
       "      <th>actor2</th>\n",
       "      <th>fatalities</th>\n",
       "      <th>notes</th>\n",
       "      <th>index</th>\n",
       "    </tr>\n",
       "  </thead>\n",
       "  <tbody>\n",
       "    <tr>\n",
       "      <th>0</th>\n",
       "      <td>Afghanistan</td>\n",
       "      <td>Islamic State Khorasan Province (ISKP)</td>\n",
       "      <td>Military Forces of Afghanistan (2021-)</td>\n",
       "      <td>22</td>\n",
       "      <td>21-43 Taliban members and civilians were kille...</td>\n",
       "      <td>0</td>\n",
       "    </tr>\n",
       "    <tr>\n",
       "      <th>1</th>\n",
       "      <td>Afghanistan</td>\n",
       "      <td>Military Forces of Pakistan (2022-)</td>\n",
       "      <td>Civilians (Afghanistan)</td>\n",
       "      <td>6</td>\n",
       "      <td>six civilians, three women and three children,...</td>\n",
       "      <td>1</td>\n",
       "    </tr>\n",
       "    <tr>\n",
       "      <th>2</th>\n",
       "      <td>Afghanistan</td>\n",
       "      <td>National Resistance Front</td>\n",
       "      <td>Military Forces of Afghanistan (2021-)</td>\n",
       "      <td>9</td>\n",
       "      <td>five Taliban members were killed and two were ...</td>\n",
       "      <td>2</td>\n",
       "    </tr>\n",
       "    <tr>\n",
       "      <th>3</th>\n",
       "      <td>Afghanistan</td>\n",
       "      <td>Unidentified Armed Group (Afghanistan)</td>\n",
       "      <td>Civilians (Afghanistan)</td>\n",
       "      <td>9</td>\n",
       "      <td>Explosive remnants of war: at least nine child...</td>\n",
       "      <td>3</td>\n",
       "    </tr>\n",
       "    <tr>\n",
       "      <th>4</th>\n",
       "      <td>Angola</td>\n",
       "      <td>FLEC-FAC: Front for the Liberation of the Encl...</td>\n",
       "      <td>Military Forces of Angola (1975-)</td>\n",
       "      <td>10</td>\n",
       "      <td>FLEC-FAC attacked a patrol of the Angolan Arme...</td>\n",
       "      <td>4</td>\n",
       "    </tr>\n",
       "    <tr>\n",
       "      <th>5</th>\n",
       "      <td>Benin</td>\n",
       "      <td>Military Forces of Benin (2016-)</td>\n",
       "      <td>JNIM: Group for Support of Islam and Muslims</td>\n",
       "      <td>13</td>\n",
       "      <td>Beninese military clashed with suspected JNIM ...</td>\n",
       "      <td>5</td>\n",
       "    </tr>\n",
       "    <tr>\n",
       "      <th>6</th>\n",
       "      <td>Brazil</td>\n",
       "      <td>Military Forces of Brazil (2023-) Military Police</td>\n",
       "      <td>Unidentified Gang (Brazil)</td>\n",
       "      <td>6</td>\n",
       "      <td>in Londrina (Parana), six drug trafficking sus...</td>\n",
       "      <td>6</td>\n",
       "    </tr>\n",
       "    <tr>\n",
       "      <th>7</th>\n",
       "      <td>Brazil</td>\n",
       "      <td>Unidentified Gang and/or Police Militia</td>\n",
       "      <td>Unidentified Gang (Brazil)</td>\n",
       "      <td>6</td>\n",
       "      <td>in Alto Garcas (Mato Grosso), unknown armed in...</td>\n",
       "      <td>7</td>\n",
       "    </tr>\n",
       "    <tr>\n",
       "      <th>8</th>\n",
       "      <td>Burkina Faso</td>\n",
       "      <td>Islamic State Sahel Province (ISSP)</td>\n",
       "      <td>Civilians (Burkina Faso)</td>\n",
       "      <td>75</td>\n",
       "      <td>IS Sahel militants attacked a Catholic church ...</td>\n",
       "      <td>8</td>\n",
       "    </tr>\n",
       "    <tr>\n",
       "      <th>9</th>\n",
       "      <td>Burkina Faso</td>\n",
       "      <td>Islamic State Sahel Province (ISSP)</td>\n",
       "      <td>Military Forces of Burkina Faso (2022-)</td>\n",
       "      <td>8</td>\n",
       "      <td>IS Sahel militants clashed with soldiers at ea...</td>\n",
       "      <td>9</td>\n",
       "    </tr>\n",
       "  </tbody>\n",
       "</table>\n",
       "</div>"
      ],
      "text/plain": [
       "        country                                             actor1  \\\n",
       "0   Afghanistan             Islamic State Khorasan Province (ISKP)   \n",
       "1   Afghanistan                Military Forces of Pakistan (2022-)   \n",
       "2   Afghanistan                          National Resistance Front   \n",
       "3   Afghanistan             Unidentified Armed Group (Afghanistan)   \n",
       "4        Angola  FLEC-FAC: Front for the Liberation of the Encl...   \n",
       "5         Benin                   Military Forces of Benin (2016-)   \n",
       "6        Brazil  Military Forces of Brazil (2023-) Military Police   \n",
       "7        Brazil            Unidentified Gang and/or Police Militia   \n",
       "8  Burkina Faso                Islamic State Sahel Province (ISSP)   \n",
       "9  Burkina Faso                Islamic State Sahel Province (ISSP)   \n",
       "\n",
       "                                         actor2  fatalities  \\\n",
       "0        Military Forces of Afghanistan (2021-)          22   \n",
       "1                       Civilians (Afghanistan)           6   \n",
       "2        Military Forces of Afghanistan (2021-)           9   \n",
       "3                       Civilians (Afghanistan)           9   \n",
       "4             Military Forces of Angola (1975-)          10   \n",
       "5  JNIM: Group for Support of Islam and Muslims          13   \n",
       "6                    Unidentified Gang (Brazil)           6   \n",
       "7                    Unidentified Gang (Brazil)           6   \n",
       "8                      Civilians (Burkina Faso)          75   \n",
       "9       Military Forces of Burkina Faso (2022-)           8   \n",
       "\n",
       "                                               notes  index  \n",
       "0  21-43 Taliban members and civilians were kille...      0  \n",
       "1  six civilians, three women and three children,...      1  \n",
       "2  five Taliban members were killed and two were ...      2  \n",
       "3  Explosive remnants of war: at least nine child...      3  \n",
       "4  FLEC-FAC attacked a patrol of the Angolan Arme...      4  \n",
       "5  Beninese military clashed with suspected JNIM ...      5  \n",
       "6  in Londrina (Parana), six drug trafficking sus...      6  \n",
       "7  in Alto Garcas (Mato Grosso), unknown armed in...      7  \n",
       "8  IS Sahel militants attacked a Catholic church ...      8  \n",
       "9  IS Sahel militants clashed with soldiers at ea...      9  "
      ]
     },
     "execution_count": 85,
     "metadata": {},
     "output_type": "execute_result"
    }
   ],
   "source": [
    "acled_events_grouped.head(10)"
   ]
  },
  {
   "cell_type": "markdown",
   "id": "e987507d-facc-4ca1-be38-c9cfbe37ce7a",
   "metadata": {},
   "source": [
    "## Creating sentence embeddings for grouped event notes:"
   ]
  },
  {
   "cell_type": "code",
   "execution_count": 81,
   "id": "d56e486c-4f03-4410-840a-dc80e16c2514",
   "metadata": {},
   "outputs": [],
   "source": [
    "model = SentenceTransformer('all-MiniLM-L6-v2')\n",
    "\n",
    "def compute_and_cache_embeddings(df, text_column, model, cache_path, reset = False):\n",
    "    \"\"\"\n",
    "    Computes and saves embeddings for a text column.\n",
    "    \"\"\"\n",
    "    if reset == False:\n",
    "        embeddings = np.load(cache_path)\n",
    "        print(\"Loaded embeddings from cache.\")\n",
    "        return embeddings\n",
    "        \n",
    "    else:\n",
    "        texts = df[text_column].fillna(\"\").tolist()\n",
    "        embeddings = model.encode(texts, batch_size=64, show_progress_bar=True, convert_to_numpy=True)\n",
    "        np.save(cache_path, embeddings)\n",
    "        return embeddings"
   ]
  },
  {
   "cell_type": "code",
   "execution_count": 82,
   "id": "a3181b5c-3527-4fd7-8bbc-31c2304e6819",
   "metadata": {},
   "outputs": [
    {
     "data": {
      "application/vnd.jupyter.widget-view+json": {
       "model_id": "d46fcce0553246ffa199aee8ded2847f",
       "version_major": 2,
       "version_minor": 0
      },
      "text/plain": [
       "Batches:   0%|          | 0/8 [00:00<?, ?it/s]"
      ]
     },
     "metadata": {},
     "output_type": "display_data"
    }
   ],
   "source": [
    "grouped_event_embeddings = compute_and_cache_embeddings(acled_events_grouped, \"notes\", model, \n",
    "                                              f\"data/mst/sentence_embeddings/02_events_grouped_embeddings.npy\",\n",
    "                                                       reset = True)"
   ]
  },
  {
   "cell_type": "markdown",
   "id": "069ef24e-5565-451e-9c39-ddab99cce69a",
   "metadata": {},
   "source": [
    "## Cross joining news and events"
   ]
  },
  {
   "cell_type": "code",
   "execution_count": null,
   "id": "e464655e-17a6-4627-a039-091468144470",
   "metadata": {},
   "outputs": [],
   "source": []
  }
 ],
 "metadata": {
  "kernelspec": {
   "display_name": "Python 3 (ipykernel)",
   "language": "python",
   "name": "python3"
  },
  "language_info": {
   "codemirror_mode": {
    "name": "ipython",
    "version": 3
   },
   "file_extension": ".py",
   "mimetype": "text/x-python",
   "name": "python",
   "nbconvert_exporter": "python",
   "pygments_lexer": "ipython3",
   "version": "3.8.8"
  }
 },
 "nbformat": 4,
 "nbformat_minor": 5
}
