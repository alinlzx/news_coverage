{
 "cells": [
  {
   "cell_type": "code",
   "execution_count": 94,
   "id": "e61685e6-ff89-486a-b2dc-7bbda67037ce",
   "metadata": {},
   "outputs": [],
   "source": [
    "import json\n",
    "from datetime import datetime, timedelta\n",
    "import pandas as pd\n",
    "import glob\n",
    "import os\n",
    "from sentence_transformers import SentenceTransformer, util"
   ]
  },
  {
   "cell_type": "markdown",
   "id": "f9e59ced-ffcd-433d-aa7f-45a6f3dd9ef5",
   "metadata": {},
   "source": [
    "## Setting directory "
   ]
  },
  {
   "cell_type": "code",
   "execution_count": 4,
   "id": "4b3668ef-94dc-41ce-8b3f-12f4ac126f95",
   "metadata": {},
   "outputs": [],
   "source": [
    "os.chdir(\"../..\")"
   ]
  },
  {
   "cell_type": "markdown",
   "id": "44f4e1bc-f298-4f71-81d6-9ab2405737ef",
   "metadata": {},
   "source": [
    "## Importing and Cleaning NYT Archive JSON:"
   ]
  },
  {
   "cell_type": "code",
   "execution_count": 5,
   "id": "e93fb158-64c5-479e-a9b4-fb3fd8bc2dfe",
   "metadata": {},
   "outputs": [],
   "source": [
    "articles = []\n",
    "\n",
    "filepath = f\"data/raw/02_nyt_jan_mar_2024.json\""
   ]
  },
  {
   "cell_type": "code",
   "execution_count": 77,
   "id": "75b32d9c-a64f-4c2b-a42a-331281bf8cf6",
   "metadata": {},
   "outputs": [],
   "source": [
    "with open(filepath, 'r') as f:\n",
    "    data = json.load(f)\n",
    "    for doc in data:\n",
    "        articles.append({\n",
    "            \"nyt_title\": doc.get(\"headline\", {}).get(\"main\", \"\"),\n",
    "            \"nyt_date\": doc.get(\"pub_date\", \"\")[:10],  # just the date\n",
    "            \"nyt_abstract\": doc.get(\"abstract\", \"\"),\n",
    "            \"nyt_url\": doc.get(\"web_url\", \"\")\n",
    "        })"
   ]
  },
  {
   "cell_type": "code",
   "execution_count": 78,
   "id": "4d8d8600-4db5-4a55-b60f-bba3f48ea9c8",
   "metadata": {},
   "outputs": [],
   "source": [
    "nyt_articles = pd.DataFrame(articles)\n",
    "nyt_articles['nyt_date'] = pd.to_datetime(nyt_articles['nyt_date'])"
   ]
  },
  {
   "cell_type": "markdown",
   "id": "1e227e22-9501-48c6-8ac5-6b08150793cb",
   "metadata": {},
   "source": [
    "## Importing ACLED Event Data"
   ]
  },
  {
   "cell_type": "code",
   "execution_count": 61,
   "id": "0a2c6ccf-5700-4f6f-bb32-eac68784bc49",
   "metadata": {},
   "outputs": [],
   "source": [
    "acled_path = f\"data/raw/02_acled_event_jan_mar_24.csv\"\n",
    "acled_events = pd.read_csv(acled_path)"
   ]
  },
  {
   "cell_type": "code",
   "execution_count": 62,
   "id": "76d8f612-6f2b-4c8b-a634-17fcf5e8ba1e",
   "metadata": {},
   "outputs": [],
   "source": [
    "acled_events['event_date'] = pd.to_datetime(acled_events['event_date'])\n",
    "\n",
    "# selecting just the relevant columns\n",
    "acled_events_select = acled_events[[\"event_date\", \"year\", \"disorder_type\",\n",
    "                                   \"event_type\", \"sub_event_type\", \"actor1\", \"actor2\", \n",
    "                                   \"interaction\", \"region\", \"country\", \"fatalities\",\n",
    "                                   \"notes\", \"tags\"]]"
   ]
  },
  {
   "cell_type": "markdown",
   "id": "52b55da8-937e-4619-8bf6-164efcee5339",
   "metadata": {},
   "source": [
    "### Filtering on scale/impact"
   ]
  },
  {
   "cell_type": "code",
   "execution_count": 63,
   "id": "4a080823-55ca-42ee-9f2f-54bcf0f40092",
   "metadata": {},
   "outputs": [],
   "source": [
    "acled_events_filter = acled_events_select[acled_events_select[\"fatalities\"] > 25]"
   ]
  },
  {
   "cell_type": "markdown",
   "id": "da169ecc-2493-4133-9d56-26fe8c2a7335",
   "metadata": {},
   "source": [
    "## Joining ACLED and NYT "
   ]
  },
  {
   "cell_type": "code",
   "execution_count": 64,
   "id": "3678af2c-0c13-452a-add7-6596b53ea824",
   "metadata": {},
   "outputs": [
    {
     "data": {
      "text/plain": [
       "284"
      ]
     },
     "execution_count": 64,
     "metadata": {},
     "output_type": "execute_result"
    }
   ],
   "source": [
    "# getting row counts \n",
    "len(acled_events_filter)\n",
    "# len(nyt_articles)"
   ]
  },
  {
   "cell_type": "markdown",
   "id": "e784ee0b-7d9c-4e78-bb95-39412ca320f2",
   "metadata": {},
   "source": [
    "### First, cross join on date, and then filter to where the dates are sufficiently similar"
   ]
  },
  {
   "cell_type": "code",
   "execution_count": 85,
   "id": "c1f305e6-8fce-46b6-9d99-49ebdc6d9ba2",
   "metadata": {},
   "outputs": [],
   "source": [
    "# defining func\n",
    "\n",
    "# def cross_join_on_date_proximity(df_1, df_2, date_tolerance_days=10):\n",
    "#     \"\"\"Cross-join rows where dates are within ±date_tolerance_days.\"\"\"\n",
    "#     # nyt_df[\"nyt_date\"] = pd.to_datetime(nyt_df[\"nyt_date\"])\n",
    "    \n",
    "#     results = []\n",
    "#     for _, df_2_row in df_2.iterrows():\n",
    "#         event_date = df_2_row[\"event_date\"]\n",
    "#         start = event_date - timedelta(days=date_tolerance_days)\n",
    "#         end = event_date + timedelta(days=date_tolerance_days)\n",
    "#         matched_articles = df_1[(df_1[\"nyt_date\"] >= start) & (df_1[\"nyt_date\"] <= end)]\n",
    "        \n",
    "#         for _, df_1_row in matched_articles.iterrows():\n",
    "#             joined = {**df_2_row.to_dict(), **df_1_row.to_dict()}\n",
    "#             results.append(joined)\n",
    "    \n",
    "#     return pd.DataFrame(results)\n",
    "\n",
    "\n",
    "def cross_join_on_date_proximity(events_df, news_df, date_tolerance_days=1):\n",
    "    \n",
    "    events_df['event_date'] = pd.to_datetime(events_df['event_date'])\n",
    "    # print(news_df.head())\n",
    "    news_df['nyt_date'] = pd.to_datetime(news_df['nyt_date'])\n",
    "    \n",
    "    events_df['cross_join_key'] = 1\n",
    "    news_df['cross_join_key'] = 1\n",
    "    \n",
    "    # cross join\n",
    "    merged = pd.merge(events_df, news_df, on = 'cross_join_key').drop('cross_join_key', axis = 1)\n",
    "    merged['date_diff'] = (merged['nyt_date'] - merged['event_date']).dt.days\n",
    "    # print(merged.head())\n",
    "    \n",
    "    # filter\n",
    "    filtered = merged[merged['date_diff'] < date_tolerance_days].copy()\n",
    "    \n",
    "    # print(merged.dtypes)\n",
    "    \n",
    "    return(filtered)"
   ]
  },
  {
   "cell_type": "code",
   "execution_count": 86,
   "id": "c1d535bd",
   "metadata": {},
   "outputs": [
    {
     "name": "stderr",
     "output_type": "stream",
     "text": [
      "/var/folders/j7/79hr95hd7kb_3g8vc4y594bc0000gn/T/ipykernel_2197/3102752215.py:23: SettingWithCopyWarning: \n",
      "A value is trying to be set on a copy of a slice from a DataFrame.\n",
      "Try using .loc[row_indexer,col_indexer] = value instead\n",
      "\n",
      "See the caveats in the documentation: https://pandas.pydata.org/pandas-docs/stable/user_guide/indexing.html#returning-a-view-versus-a-copy\n",
      "  events_df['event_date'] = pd.to_datetime(events_df['event_date'])\n",
      "/var/folders/j7/79hr95hd7kb_3g8vc4y594bc0000gn/T/ipykernel_2197/3102752215.py:27: SettingWithCopyWarning: \n",
      "A value is trying to be set on a copy of a slice from a DataFrame.\n",
      "Try using .loc[row_indexer,col_indexer] = value instead\n",
      "\n",
      "See the caveats in the documentation: https://pandas.pydata.org/pandas-docs/stable/user_guide/indexing.html#returning-a-view-versus-a-copy\n",
      "  events_df['cross_join_key'] = 1\n"
     ]
    }
   ],
   "source": [
    "merged_df = cross_join_on_date_proximity(acled_events_filter, nyt_articles, 2)\n",
    "\n",
    "# dropping large differences in dates\n",
    "# merged_df['event_date'] = pd.to_datetime(merged_df['event_date'])\n",
    "# merged_df['nyt_date'] = pd.to_datetime(merged_df['nyt_date'])\n",
    "# diff = (merged_df['event_date'] - merged_df['nyt_date']).abs().dt.days\n",
    "# merged[diff <= 2]"
   ]
  },
  {
   "cell_type": "code",
   "execution_count": 88,
   "id": "0db0da79",
   "metadata": {},
   "outputs": [
    {
     "data": {
      "text/html": [
       "<div>\n",
       "<style scoped>\n",
       "    .dataframe tbody tr th:only-of-type {\n",
       "        vertical-align: middle;\n",
       "    }\n",
       "\n",
       "    .dataframe tbody tr th {\n",
       "        vertical-align: top;\n",
       "    }\n",
       "\n",
       "    .dataframe thead th {\n",
       "        text-align: right;\n",
       "    }\n",
       "</style>\n",
       "<table border=\"1\" class=\"dataframe\">\n",
       "  <thead>\n",
       "    <tr style=\"text-align: right;\">\n",
       "      <th></th>\n",
       "      <th>event_date</th>\n",
       "      <th>year</th>\n",
       "      <th>disorder_type</th>\n",
       "      <th>event_type</th>\n",
       "      <th>sub_event_type</th>\n",
       "      <th>actor1</th>\n",
       "      <th>actor2</th>\n",
       "      <th>interaction</th>\n",
       "      <th>region</th>\n",
       "      <th>country</th>\n",
       "      <th>fatalities</th>\n",
       "      <th>notes</th>\n",
       "      <th>tags</th>\n",
       "      <th>nyt_title</th>\n",
       "      <th>nyt_date</th>\n",
       "      <th>nyt_abstract</th>\n",
       "      <th>nyt_url</th>\n",
       "      <th>date_diff</th>\n",
       "    </tr>\n",
       "  </thead>\n",
       "  <tbody>\n",
       "    <tr>\n",
       "      <th>11705</th>\n",
       "      <td>2024-03-31</td>\n",
       "      <td>2024</td>\n",
       "      <td>Political violence</td>\n",
       "      <td>Battles</td>\n",
       "      <td>Armed clash</td>\n",
       "      <td>KNU/KNLA: Karen National Union/Karen National ...</td>\n",
       "      <td>Military Forces of Myanmar (2021-)</td>\n",
       "      <td>State forces-Rebel group</td>\n",
       "      <td>Southeast Asia</td>\n",
       "      <td>Myanmar</td>\n",
       "      <td>40</td>\n",
       "      <td>On 31 March 2024, near Maung Mei Shaung villag...</td>\n",
       "      <td>NaN</td>\n",
       "      <td>Paradoxical Line of Amazement</td>\n",
       "      <td>2024-03-30</td>\n",
       "      <td>Blake Slonecker presents an erudite themeless ...</td>\n",
       "      <td>https://www.nytimes.com/2024/03/29/crosswords/...</td>\n",
       "      <td>1</td>\n",
       "    </tr>\n",
       "    <tr>\n",
       "      <th>11706</th>\n",
       "      <td>2024-03-31</td>\n",
       "      <td>2024</td>\n",
       "      <td>Political violence</td>\n",
       "      <td>Battles</td>\n",
       "      <td>Armed clash</td>\n",
       "      <td>KNU/KNLA: Karen National Union/Karen National ...</td>\n",
       "      <td>Military Forces of Myanmar (2021-)</td>\n",
       "      <td>State forces-Rebel group</td>\n",
       "      <td>Southeast Asia</td>\n",
       "      <td>Myanmar</td>\n",
       "      <td>40</td>\n",
       "      <td>On 31 March 2024, near Maung Mei Shaung villag...</td>\n",
       "      <td>NaN</td>\n",
       "      <td>Quotation of the Day: A Percussive Poet Explor...</td>\n",
       "      <td>2024-03-30</td>\n",
       "      <td>Quotation of the Day for Saturday, March 30, 2...</td>\n",
       "      <td>https://www.nytimes.com/2024/03/30/pageoneplus...</td>\n",
       "      <td>1</td>\n",
       "    </tr>\n",
       "    <tr>\n",
       "      <th>11707</th>\n",
       "      <td>2024-03-31</td>\n",
       "      <td>2024</td>\n",
       "      <td>Political violence</td>\n",
       "      <td>Battles</td>\n",
       "      <td>Armed clash</td>\n",
       "      <td>KNU/KNLA: Karen National Union/Karen National ...</td>\n",
       "      <td>Military Forces of Myanmar (2021-)</td>\n",
       "      <td>State forces-Rebel group</td>\n",
       "      <td>Southeast Asia</td>\n",
       "      <td>Myanmar</td>\n",
       "      <td>40</td>\n",
       "      <td>On 31 March 2024, near Maung Mei Shaung villag...</td>\n",
       "      <td>NaN</td>\n",
       "      <td>Corrections: March 30, 2024</td>\n",
       "      <td>2024-03-30</td>\n",
       "      <td>Corrections that appeared in print on Saturday...</td>\n",
       "      <td>https://www.nytimes.com/2024/03/30/pageoneplus...</td>\n",
       "      <td>1</td>\n",
       "    </tr>\n",
       "    <tr>\n",
       "      <th>11708</th>\n",
       "      <td>2024-03-31</td>\n",
       "      <td>2024</td>\n",
       "      <td>Political violence</td>\n",
       "      <td>Battles</td>\n",
       "      <td>Armed clash</td>\n",
       "      <td>KNU/KNLA: Karen National Union/Karen National ...</td>\n",
       "      <td>Military Forces of Myanmar (2021-)</td>\n",
       "      <td>State forces-Rebel group</td>\n",
       "      <td>Southeast Asia</td>\n",
       "      <td>Myanmar</td>\n",
       "      <td>40</td>\n",
       "      <td>On 31 March 2024, near Maung Mei Shaung villag...</td>\n",
       "      <td>NaN</td>\n",
       "      <td>A 500-Year Old Chapel, 438 Solar Panels and an...</td>\n",
       "      <td>2024-03-30</td>\n",
       "      <td>King’s College Chapel in Cambridge is one of s...</td>\n",
       "      <td>https://www.nytimes.com/2024/03/30/world/europ...</td>\n",
       "      <td>1</td>\n",
       "    </tr>\n",
       "    <tr>\n",
       "      <th>11709</th>\n",
       "      <td>2024-03-31</td>\n",
       "      <td>2024</td>\n",
       "      <td>Political violence</td>\n",
       "      <td>Battles</td>\n",
       "      <td>Armed clash</td>\n",
       "      <td>KNU/KNLA: Karen National Union/Karen National ...</td>\n",
       "      <td>Military Forces of Myanmar (2021-)</td>\n",
       "      <td>State forces-Rebel group</td>\n",
       "      <td>Southeast Asia</td>\n",
       "      <td>Myanmar</td>\n",
       "      <td>40</td>\n",
       "      <td>On 31 March 2024, near Maung Mei Shaung villag...</td>\n",
       "      <td>NaN</td>\n",
       "      <td>A Stork, a Fisherman and Their Unlikely Bond E...</td>\n",
       "      <td>2024-03-30</td>\n",
       "      <td>Thirteen years ago, a stork landed on a fisher...</td>\n",
       "      <td>https://www.nytimes.com/2024/03/30/world/europ...</td>\n",
       "      <td>1</td>\n",
       "    </tr>\n",
       "  </tbody>\n",
       "</table>\n",
       "</div>"
      ],
      "text/plain": [
       "      event_date  year       disorder_type event_type sub_event_type  \\\n",
       "11705 2024-03-31  2024  Political violence    Battles    Armed clash   \n",
       "11706 2024-03-31  2024  Political violence    Battles    Armed clash   \n",
       "11707 2024-03-31  2024  Political violence    Battles    Armed clash   \n",
       "11708 2024-03-31  2024  Political violence    Battles    Armed clash   \n",
       "11709 2024-03-31  2024  Political violence    Battles    Armed clash   \n",
       "\n",
       "                                                  actor1  \\\n",
       "11705  KNU/KNLA: Karen National Union/Karen National ...   \n",
       "11706  KNU/KNLA: Karen National Union/Karen National ...   \n",
       "11707  KNU/KNLA: Karen National Union/Karen National ...   \n",
       "11708  KNU/KNLA: Karen National Union/Karen National ...   \n",
       "11709  KNU/KNLA: Karen National Union/Karen National ...   \n",
       "\n",
       "                                   actor2               interaction  \\\n",
       "11705  Military Forces of Myanmar (2021-)  State forces-Rebel group   \n",
       "11706  Military Forces of Myanmar (2021-)  State forces-Rebel group   \n",
       "11707  Military Forces of Myanmar (2021-)  State forces-Rebel group   \n",
       "11708  Military Forces of Myanmar (2021-)  State forces-Rebel group   \n",
       "11709  Military Forces of Myanmar (2021-)  State forces-Rebel group   \n",
       "\n",
       "               region  country  fatalities  \\\n",
       "11705  Southeast Asia  Myanmar          40   \n",
       "11706  Southeast Asia  Myanmar          40   \n",
       "11707  Southeast Asia  Myanmar          40   \n",
       "11708  Southeast Asia  Myanmar          40   \n",
       "11709  Southeast Asia  Myanmar          40   \n",
       "\n",
       "                                                   notes tags  \\\n",
       "11705  On 31 March 2024, near Maung Mei Shaung villag...  NaN   \n",
       "11706  On 31 March 2024, near Maung Mei Shaung villag...  NaN   \n",
       "11707  On 31 March 2024, near Maung Mei Shaung villag...  NaN   \n",
       "11708  On 31 March 2024, near Maung Mei Shaung villag...  NaN   \n",
       "11709  On 31 March 2024, near Maung Mei Shaung villag...  NaN   \n",
       "\n",
       "                                               nyt_title   nyt_date  \\\n",
       "11705                      Paradoxical Line of Amazement 2024-03-30   \n",
       "11706  Quotation of the Day: A Percussive Poet Explor... 2024-03-30   \n",
       "11707                        Corrections: March 30, 2024 2024-03-30   \n",
       "11708  A 500-Year Old Chapel, 438 Solar Panels and an... 2024-03-30   \n",
       "11709  A Stork, a Fisherman and Their Unlikely Bond E... 2024-03-30   \n",
       "\n",
       "                                            nyt_abstract  \\\n",
       "11705  Blake Slonecker presents an erudite themeless ...   \n",
       "11706  Quotation of the Day for Saturday, March 30, 2...   \n",
       "11707  Corrections that appeared in print on Saturday...   \n",
       "11708  King’s College Chapel in Cambridge is one of s...   \n",
       "11709  Thirteen years ago, a stork landed on a fisher...   \n",
       "\n",
       "                                                 nyt_url  date_diff  \n",
       "11705  https://www.nytimes.com/2024/03/29/crosswords/...          1  \n",
       "11706  https://www.nytimes.com/2024/03/30/pageoneplus...          1  \n",
       "11707  https://www.nytimes.com/2024/03/30/pageoneplus...          1  \n",
       "11708  https://www.nytimes.com/2024/03/30/world/europ...          1  \n",
       "11709  https://www.nytimes.com/2024/03/30/world/europ...          1  "
      ]
     },
     "execution_count": 88,
     "metadata": {},
     "output_type": "execute_result"
    }
   ],
   "source": [
    "# checking out cross join\n",
    "merged_df.head()"
   ]
  },
  {
   "cell_type": "code",
   "execution_count": 89,
   "id": "f4bd3e8a",
   "metadata": {},
   "outputs": [
    {
     "data": {
      "text/plain": [
       "215742"
      ]
     },
     "execution_count": 89,
     "metadata": {},
     "output_type": "execute_result"
    }
   ],
   "source": [
    "#nrows\n",
    "len(merged_df)"
   ]
  },
  {
   "cell_type": "markdown",
   "id": "5b536809",
   "metadata": {},
   "source": [
    "### Creating sentence embeddings for NYT abstracts and event descriptions, and then compute cosines"
   ]
  },
  {
   "cell_type": "code",
   "execution_count": 96,
   "id": "70863b05",
   "metadata": {},
   "outputs": [],
   "source": [
    "def embed_and_match(df, news_col='nyt_abstract', event_col='notes'):\n",
    "    \"\"\"\n",
    "    Add a column indicating whether the abstract and notes likely refer to the same event.\n",
    "    \n",
    "    Parameters:\n",
    "        df (pd.DataFrame): Input DataFrame with abstract and notes columns.\n",
    "        abstract_col (str): Name of the NYT abstract column.\n",
    "        notes_col (str): Name of the event notes column.\n",
    "        match_score (numeric): Cosine similarity of news/notes sentence embeddings\n",
    "\n",
    "    Returns:\n",
    "        pd.DataFrame: With added 'match_score' col.\n",
    "    \"\"\"\n",
    "    model = SentenceTransformer('all-MiniLM-L6-v2')\n",
    "\n",
    "    # Encode both text columns\n",
    "    abstracts = df[news_col].fillna(\"\").tolist()\n",
    "    notes = df[event_col].fillna(\"\").tolist()\n",
    "\n",
    "    emb_abstracts = model.encode(abstracts, convert_to_tensor=True)\n",
    "    emb_notes = model.encode(notes, convert_to_tensor=True)\n",
    "\n",
    "    # Compute cosine similarities\n",
    "    similarities = util.cos_sim(emb_abstracts, emb_notes).diagonal()\n",
    "\n",
    "    df['match_score'] = similarities.cpu().numpy()\n",
    "\n",
    "    return df\n"
   ]
  },
  {
   "cell_type": "code",
   "execution_count": null,
   "id": "a8a883a2",
   "metadata": {},
   "outputs": [
    {
     "data": {
      "application/vnd.jupyter.widget-view+json": {
       "model_id": "faac95cccd79426cbdccd098edeb23d5",
       "version_major": 2,
       "version_minor": 0
      },
      "text/plain": [
       "modules.json:   0%|          | 0.00/349 [00:00<?, ?B/s]"
      ]
     },
     "metadata": {},
     "output_type": "display_data"
    },
    {
     "data": {
      "application/vnd.jupyter.widget-view+json": {
       "model_id": "7f3beb61c6a249f6877c3bb9d2cec39e",
       "version_major": 2,
       "version_minor": 0
      },
      "text/plain": [
       "config_sentence_transformers.json:   0%|          | 0.00/116 [00:00<?, ?B/s]"
      ]
     },
     "metadata": {},
     "output_type": "display_data"
    },
    {
     "data": {
      "application/vnd.jupyter.widget-view+json": {
       "model_id": "2a13bdae2d8949199c44ff226eb25786",
       "version_major": 2,
       "version_minor": 0
      },
      "text/plain": [
       "README.md: 0.00B [00:00, ?B/s]"
      ]
     },
     "metadata": {},
     "output_type": "display_data"
    },
    {
     "data": {
      "application/vnd.jupyter.widget-view+json": {
       "model_id": "3b921264b809497fa60e7e091373b686",
       "version_major": 2,
       "version_minor": 0
      },
      "text/plain": [
       "sentence_bert_config.json:   0%|          | 0.00/53.0 [00:00<?, ?B/s]"
      ]
     },
     "metadata": {},
     "output_type": "display_data"
    },
    {
     "data": {
      "application/vnd.jupyter.widget-view+json": {
       "model_id": "39254da2bdb940629a1d5f9fde58ee7c",
       "version_major": 2,
       "version_minor": 0
      },
      "text/plain": [
       "config.json:   0%|          | 0.00/612 [00:00<?, ?B/s]"
      ]
     },
     "metadata": {},
     "output_type": "display_data"
    },
    {
     "data": {
      "application/vnd.jupyter.widget-view+json": {
       "model_id": "3b00c4ccdd8a4614bb444173d1eca28b",
       "version_major": 2,
       "version_minor": 0
      },
      "text/plain": [
       "model.safetensors:   0%|          | 0.00/90.9M [00:00<?, ?B/s]"
      ]
     },
     "metadata": {},
     "output_type": "display_data"
    },
    {
     "data": {
      "application/vnd.jupyter.widget-view+json": {
       "model_id": "2a5062f3f6344c9e88b8a8178d7d01f3",
       "version_major": 2,
       "version_minor": 0
      },
      "text/plain": [
       "tokenizer_config.json:   0%|          | 0.00/350 [00:00<?, ?B/s]"
      ]
     },
     "metadata": {},
     "output_type": "display_data"
    },
    {
     "data": {
      "application/vnd.jupyter.widget-view+json": {
       "model_id": "ee665ed9573c4a32aca741edb4f2f8d8",
       "version_major": 2,
       "version_minor": 0
      },
      "text/plain": [
       "vocab.txt: 0.00B [00:00, ?B/s]"
      ]
     },
     "metadata": {},
     "output_type": "display_data"
    },
    {
     "data": {
      "application/vnd.jupyter.widget-view+json": {
       "model_id": "8f14aef66c9241c1b6c079c6a0318db6",
       "version_major": 2,
       "version_minor": 0
      },
      "text/plain": [
       "tokenizer.json: 0.00B [00:00, ?B/s]"
      ]
     },
     "metadata": {},
     "output_type": "display_data"
    },
    {
     "data": {
      "application/vnd.jupyter.widget-view+json": {
       "model_id": "51f93e4683614fa8b8cac916c85b2cd5",
       "version_major": 2,
       "version_minor": 0
      },
      "text/plain": [
       "special_tokens_map.json:   0%|          | 0.00/112 [00:00<?, ?B/s]"
      ]
     },
     "metadata": {},
     "output_type": "display_data"
    },
    {
     "data": {
      "application/vnd.jupyter.widget-view+json": {
       "model_id": "253d128018724640b5bce1ec1ea36940",
       "version_major": 2,
       "version_minor": 0
      },
      "text/plain": [
       "config.json:   0%|          | 0.00/190 [00:00<?, ?B/s]"
      ]
     },
     "metadata": {},
     "output_type": "display_data"
    }
   ],
   "source": [
    "# applying the fn\n",
    "\n",
    "merged_df_sim = embed_and_match(merged_df)"
   ]
  },
  {
   "cell_type": "code",
   "execution_count": null,
   "id": "eb6663b2",
   "metadata": {},
   "outputs": [],
   "source": []
  }
 ],
 "metadata": {
  "kernelspec": {
   "display_name": "Python 3 (ipykernel)",
   "language": "python",
   "name": "python3"
  },
  "language_info": {
   "codemirror_mode": {
    "name": "ipython",
    "version": 3
   },
   "file_extension": ".py",
   "mimetype": "text/x-python",
   "name": "python",
   "nbconvert_exporter": "python",
   "pygments_lexer": "ipython3",
   "version": "3.8.8"
  }
 },
 "nbformat": 4,
 "nbformat_minor": 5
}
