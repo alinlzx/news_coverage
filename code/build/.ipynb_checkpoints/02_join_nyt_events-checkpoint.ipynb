{
 "cells": [
  {
   "cell_type": "code",
   "execution_count": 73,
   "id": "e61685e6-ff89-486a-b2dc-7bbda67037ce",
   "metadata": {},
   "outputs": [],
   "source": [
    "import json\n",
    "from datetime import datetime, timedelta\n",
    "import pandas as pd\n",
    "import glob\n",
    "import os\n",
    "from sentence_transformers import SentenceTransformer, util\n",
    "import torch\n",
    "import numpy as np\n",
    "from sklearn.metrics.pairwise import cosine_similarity"
   ]
  },
  {
   "cell_type": "markdown",
   "id": "f9e59ced-ffcd-433d-aa7f-45a6f3dd9ef5",
   "metadata": {},
   "source": [
    "## Setting directory "
   ]
  },
  {
   "cell_type": "code",
   "execution_count": 5,
   "id": "4b3668ef-94dc-41ce-8b3f-12f4ac126f95",
   "metadata": {},
   "outputs": [],
   "source": [
    "os.chdir(\"../..\")"
   ]
  },
  {
   "cell_type": "markdown",
   "id": "44f4e1bc-f298-4f71-81d6-9ab2405737ef",
   "metadata": {},
   "source": [
    "## Importing and Cleaning NYT Archive JSON:"
   ]
  },
  {
   "cell_type": "code",
   "execution_count": 6,
   "id": "e93fb158-64c5-479e-a9b4-fb3fd8bc2dfe",
   "metadata": {},
   "outputs": [],
   "source": [
    "articles = []\n",
    "\n",
    "filepath = f\"data/raw/02_nyt_jan_mar_2024.json\""
   ]
  },
  {
   "cell_type": "code",
   "execution_count": 7,
   "id": "75b32d9c-a64f-4c2b-a42a-331281bf8cf6",
   "metadata": {},
   "outputs": [],
   "source": [
    "with open(filepath, 'r') as f:\n",
    "    data = json.load(f)\n",
    "    for doc in data:\n",
    "        articles.append({\n",
    "            \"nyt_title\": doc.get(\"headline\", {}).get(\"main\", \"\"),\n",
    "            \"nyt_date\": doc.get(\"pub_date\", \"\")[:10],  # just the date\n",
    "            \"nyt_abstract\": doc.get(\"abstract\", \"\"),\n",
    "            \"nyt_url\": doc.get(\"web_url\", \"\")\n",
    "        })"
   ]
  },
  {
   "cell_type": "code",
   "execution_count": 60,
   "id": "4d8d8600-4db5-4a55-b60f-bba3f48ea9c8",
   "metadata": {},
   "outputs": [],
   "source": [
    "nyt_articles = pd.DataFrame(articles)\n",
    "nyt_articles['nyt_date'] = pd.to_datetime(nyt_articles['nyt_date'])\n",
    "\n",
    "# indexing the dataframe:\n",
    "nyt_articles['news_index'] = nyt_articles.index"
   ]
  },
  {
   "cell_type": "code",
   "execution_count": 88,
   "id": "0d7250fd",
   "metadata": {},
   "outputs": [
    {
     "name": "stdout",
     "output_type": "stream",
     "text": [
      "11817\n"
     ]
    }
   ],
   "source": [
    "print(max(nyt_articles['news_index']))"
   ]
  },
  {
   "cell_type": "markdown",
   "id": "1e227e22-9501-48c6-8ac5-6b08150793cb",
   "metadata": {},
   "source": [
    "## Importing ACLED Event Data"
   ]
  },
  {
   "cell_type": "code",
   "execution_count": 61,
   "id": "0a2c6ccf-5700-4f6f-bb32-eac68784bc49",
   "metadata": {},
   "outputs": [],
   "source": [
    "acled_path = f\"data/raw/02_acled_event_jan_mar_24.csv\"\n",
    "acled_events = pd.read_csv(acled_path)"
   ]
  },
  {
   "cell_type": "code",
   "execution_count": 98,
   "id": "76d8f612-6f2b-4c8b-a634-17fcf5e8ba1e",
   "metadata": {},
   "outputs": [],
   "source": [
    "acled_events['event_date'] = pd.to_datetime(acled_events['event_date'])\n",
    "\n",
    "# selecting just the relevant columns\n",
    "acled_events_select = acled_events[[\"event_date\", \"year\", \"disorder_type\",\n",
    "                                   \"event_type\", \"sub_event_type\", \"actor1\", \"actor2\", \n",
    "                                   \"interaction\", \"region\", \"country\", \"fatalities\",\n",
    "                                   \"notes\", \"tags\"]]"
   ]
  },
  {
   "cell_type": "markdown",
   "id": "52b55da8-937e-4619-8bf6-164efcee5339",
   "metadata": {},
   "source": [
    "### Filtering on scale/impact"
   ]
  },
  {
   "cell_type": "code",
   "execution_count": 109,
   "id": "4a080823-55ca-42ee-9f2f-54bcf0f40092",
   "metadata": {},
   "outputs": [
    {
     "name": "stderr",
     "output_type": "stream",
     "text": [
      "/var/folders/j7/79hr95hd7kb_3g8vc4y594bc0000gn/T/ipykernel_85237/688442686.py:4: SettingWithCopyWarning: \n",
      "A value is trying to be set on a copy of a slice from a DataFrame.\n",
      "Try using .loc[row_indexer,col_indexer] = value instead\n",
      "\n",
      "See the caveats in the documentation: https://pandas.pydata.org/pandas-docs/stable/user_guide/indexing.html#returning-a-view-versus-a-copy\n",
      "  acled_events_filter['event_index'] = acled_events_filter.reset_index().index\n"
     ]
    }
   ],
   "source": [
    "acled_events_filter = acled_events_select[acled_events_select[\"fatalities\"] > 25]\n",
    "\n",
    "# indexing the dataframe\n",
    "acled_events_filter['event_index'] = acled_events_filter.reset_index().index"
   ]
  },
  {
   "cell_type": "markdown",
   "id": "e01c369f",
   "metadata": {},
   "source": [
    "## Compute Sentence Embeddings for Event Descriptions and News Abstracts"
   ]
  },
  {
   "cell_type": "code",
   "execution_count": 64,
   "id": "43869991",
   "metadata": {},
   "outputs": [],
   "source": [
    "def compute_and_cache_embeddings(df, text_column, model, cache_path):\n",
    "    \"\"\"\n",
    "    Computes and saves embeddings for a text column.\n",
    "    \"\"\"\n",
    "    texts = df[text_column].fillna(\"\").tolist()\n",
    "    embeddings = model.encode(texts, batch_size=64, show_progress_bar=True, convert_to_numpy=True)\n",
    "    np.save(cache_path, embeddings)\n",
    "    return embeddings"
   ]
  },
  {
   "cell_type": "code",
   "execution_count": 66,
   "id": "edf65b8a",
   "metadata": {},
   "outputs": [
    {
     "name": "stdout",
     "output_type": "stream",
     "text": [
      "Loaded NYT embeddings from cache.\n"
     ]
    }
   ],
   "source": [
    "model = SentenceTransformer('all-MiniLM-L6-v2')\n",
    "\n",
    "# Compute or load cached embeddings for NYT\n",
    "try:\n",
    "    nyt_embeddings = np.load(f\"data/mst/sentence_embeddings/01_nyt_embeddings.npy\")\n",
    "    print(\"Loaded NYT embeddings from cache.\")\n",
    "except FileNotFoundError:\n",
    "    nyt_embeddings = compute_and_cache_embeddings(nyt_articles, \"nyt_abstract\", model, \n",
    "                                                  f\"data/mst/sentence_embeddings/01_nyt_embeddings.npy\")\n"
   ]
  },
  {
   "cell_type": "code",
   "execution_count": 43,
   "id": "92f205c3",
   "metadata": {},
   "outputs": [
    {
     "data": {
      "application/vnd.jupyter.widget-view+json": {
       "model_id": "16ead03d4b654b249cd52a42a9137a58",
       "version_major": 2,
       "version_minor": 0
      },
      "text/plain": [
       "Batches:   0%|          | 0/5 [00:00<?, ?it/s]"
      ]
     },
     "metadata": {},
     "output_type": "display_data"
    }
   ],
   "source": [
    "# Compute or load cached embeddings for ACLED events\n",
    "\n",
    "try:\n",
    "    event_embeddings = np.load(f\"data/mst/sentence_embeddings/02_event_embeddings.npy\")\n",
    "    print(\"Loaded event embeddings from cache.\")\n",
    "except FileNotFoundError:\n",
    "    event_embeddings = compute_and_cache_embeddings(acled_events_filter, \"notes\", model, \n",
    "                                                    f\"data/mst/sentence_embeddings/event_embeddings.npy\")"
   ]
  },
  {
   "cell_type": "code",
   "execution_count": 96,
   "id": "a2088edb",
   "metadata": {},
   "outputs": [
    {
     "data": {
      "text/plain": [
       "284"
      ]
     },
     "execution_count": 96,
     "metadata": {},
     "output_type": "execute_result"
    }
   ],
   "source": [
    "len(acled_events_filter)"
   ]
  },
  {
   "cell_type": "markdown",
   "id": "5661f43a",
   "metadata": {},
   "source": [
    "### Computing cosine similarities for news and event embeddings"
   ]
  },
  {
   "cell_type": "code",
   "execution_count": 97,
   "id": "cceb5af8",
   "metadata": {},
   "outputs": [
    {
     "data": {
      "text/plain": [
       "11818"
      ]
     },
     "execution_count": 97,
     "metadata": {},
     "output_type": "execute_result"
    }
   ],
   "source": [
    "cossim_news_events = cosine_similarity(nyt_embeddings, event_embeddings)\n",
    "len(cossim_news_events)"
   ]
  },
  {
   "cell_type": "markdown",
   "id": "da169ecc-2493-4133-9d56-26fe8c2a7335",
   "metadata": {},
   "source": [
    "## Joining ACLED and NYT "
   ]
  },
  {
   "cell_type": "code",
   "execution_count": 68,
   "id": "3678af2c-0c13-452a-add7-6596b53ea824",
   "metadata": {},
   "outputs": [
    {
     "data": {
      "text/plain": [
       "284"
      ]
     },
     "execution_count": 68,
     "metadata": {},
     "output_type": "execute_result"
    }
   ],
   "source": [
    "# getting row counts \n",
    "len(acled_events_filter)\n",
    "# len(event_embeddings)"
   ]
  },
  {
   "cell_type": "markdown",
   "id": "e784ee0b-7d9c-4e78-bb95-39412ca320f2",
   "metadata": {},
   "source": [
    "### First, cross join on date, and then filter to where the dates are sufficiently similar"
   ]
  },
  {
   "cell_type": "code",
   "execution_count": 110,
   "id": "c1f305e6-8fce-46b6-9d99-49ebdc6d9ba2",
   "metadata": {},
   "outputs": [],
   "source": [
    "# defining func\n",
    "\n",
    "# def cross_join_on_date_proximity(df_1, df_2, date_tolerance_days=10):\n",
    "#     \"\"\"Cross-join rows where dates are within ±date_tolerance_days.\"\"\"\n",
    "#     # nyt_df[\"nyt_date\"] = pd.to_datetime(nyt_df[\"nyt_date\"])\n",
    "    \n",
    "#     results = []\n",
    "#     for _, df_2_row in df_2.iterrows():\n",
    "#         event_date = df_2_row[\"event_date\"]\n",
    "#         start = event_date - timedelta(days=date_tolerance_days)\n",
    "#         end = event_date + timedelta(days=date_tolerance_days)\n",
    "#         matched_articles = df_1[(df_1[\"nyt_date\"] >= start) & (df_1[\"nyt_date\"] <= end)]\n",
    "        \n",
    "#         for _, df_1_row in matched_articles.iterrows():\n",
    "#             joined = {**df_2_row.to_dict(), **df_1_row.to_dict()}\n",
    "#             results.append(joined)\n",
    "    \n",
    "#     return pd.DataFrame(results)\n",
    "\n",
    "\n",
    "def cross_join_on_date_proximity(events_df, news_df, date_tolerance_days=1):\n",
    "    \n",
    "    events_df['event_date'] = pd.to_datetime(events_df['event_date'])\n",
    "    # print(news_df.head())\n",
    "    news_df['nyt_date'] = pd.to_datetime(news_df['nyt_date'])\n",
    "    \n",
    "    events_df['cross_join_key'] = 1\n",
    "    news_df['cross_join_key'] = 1\n",
    "    \n",
    "    # cross join\n",
    "    merged = pd.merge(events_df, news_df, on = 'cross_join_key').drop('cross_join_key', axis = 1)\n",
    "    merged['date_diff'] = (merged['nyt_date'] - merged['event_date']).dt.days\n",
    "    # print(merged.head())\n",
    "    \n",
    "    # filter\n",
    "    filtered = merged[(merged['date_diff'] < date_tolerance_days) & (merged['date_diff'] >=0)].copy()\n",
    "    \n",
    "    # print(merged.dtypes)\n",
    "    \n",
    "    return(filtered)"
   ]
  },
  {
   "cell_type": "code",
   "execution_count": 111,
   "id": "bfb3e9c6",
   "metadata": {},
   "outputs": [
    {
     "name": "stderr",
     "output_type": "stream",
     "text": [
      "/var/folders/j7/79hr95hd7kb_3g8vc4y594bc0000gn/T/ipykernel_85237/2741411870.py:23: SettingWithCopyWarning: \n",
      "A value is trying to be set on a copy of a slice from a DataFrame.\n",
      "Try using .loc[row_indexer,col_indexer] = value instead\n",
      "\n",
      "See the caveats in the documentation: https://pandas.pydata.org/pandas-docs/stable/user_guide/indexing.html#returning-a-view-versus-a-copy\n",
      "  events_df['event_date'] = pd.to_datetime(events_df['event_date'])\n",
      "/var/folders/j7/79hr95hd7kb_3g8vc4y594bc0000gn/T/ipykernel_85237/2741411870.py:27: SettingWithCopyWarning: \n",
      "A value is trying to be set on a copy of a slice from a DataFrame.\n",
      "Try using .loc[row_indexer,col_indexer] = value instead\n",
      "\n",
      "See the caveats in the documentation: https://pandas.pydata.org/pandas-docs/stable/user_guide/indexing.html#returning-a-view-versus-a-copy\n",
      "  events_df['cross_join_key'] = 1\n"
     ]
    }
   ],
   "source": [
    "merged_df = cross_join_on_date_proximity(acled_events_filter, nyt_articles, date_tolerance_days = 5)\n",
    "\n",
    "# dropping large differences in dates\n",
    "# merged_df['event_date'] = pd.to_datetime(merged_df['event_date'])\n",
    "# merged_df['nyt_date'] = pd.to_datetime(merged_df['nyt_date'])\n",
    "# diff = (merged_df['event_date'] - merged_df['nyt_date']).abs().dt.days\n",
    "# merged[diff <= 2]"
   ]
  },
  {
   "cell_type": "code",
   "execution_count": 114,
   "id": "600fe21c",
   "metadata": {},
   "outputs": [
    {
     "data": {
      "text/html": [
       "<div>\n",
       "<style scoped>\n",
       "    .dataframe tbody tr th:only-of-type {\n",
       "        vertical-align: middle;\n",
       "    }\n",
       "\n",
       "    .dataframe tbody tr th {\n",
       "        vertical-align: top;\n",
       "    }\n",
       "\n",
       "    .dataframe thead th {\n",
       "        text-align: right;\n",
       "    }\n",
       "</style>\n",
       "<table border=\"1\" class=\"dataframe\">\n",
       "  <thead>\n",
       "    <tr style=\"text-align: right;\">\n",
       "      <th></th>\n",
       "      <th>event_date</th>\n",
       "      <th>year</th>\n",
       "      <th>disorder_type</th>\n",
       "      <th>event_type</th>\n",
       "      <th>sub_event_type</th>\n",
       "      <th>actor1</th>\n",
       "      <th>actor2</th>\n",
       "      <th>interaction</th>\n",
       "      <th>region</th>\n",
       "      <th>country</th>\n",
       "      <th>fatalities</th>\n",
       "      <th>notes</th>\n",
       "      <th>tags</th>\n",
       "      <th>event_index</th>\n",
       "      <th>nyt_title</th>\n",
       "      <th>nyt_date</th>\n",
       "      <th>nyt_abstract</th>\n",
       "      <th>nyt_url</th>\n",
       "      <th>news_index</th>\n",
       "      <th>date_diff</th>\n",
       "    </tr>\n",
       "  </thead>\n",
       "  <tbody>\n",
       "    <tr>\n",
       "      <th>11774</th>\n",
       "      <td>2024-03-31</td>\n",
       "      <td>2024</td>\n",
       "      <td>Political violence</td>\n",
       "      <td>Battles</td>\n",
       "      <td>Armed clash</td>\n",
       "      <td>KNU/KNLA: Karen National Union/Karen National ...</td>\n",
       "      <td>Military Forces of Myanmar (2021-)</td>\n",
       "      <td>State forces-Rebel group</td>\n",
       "      <td>Southeast Asia</td>\n",
       "      <td>Myanmar</td>\n",
       "      <td>40</td>\n",
       "      <td>On 31 March 2024, near Maung Mei Shaung villag...</td>\n",
       "      <td>NaN</td>\n",
       "      <td>0</td>\n",
       "      <td>Chance Perdomo, Star of ‘Chilling Adventures o...</td>\n",
       "      <td>2024-03-31</td>\n",
       "      <td>Mr. Perdomo, who died in a motorcycle accident...</td>\n",
       "      <td>https://www.nytimes.com/2024/03/30/arts/televi...</td>\n",
       "      <td>11774</td>\n",
       "      <td>0</td>\n",
       "    </tr>\n",
       "    <tr>\n",
       "      <th>11775</th>\n",
       "      <td>2024-03-31</td>\n",
       "      <td>2024</td>\n",
       "      <td>Political violence</td>\n",
       "      <td>Battles</td>\n",
       "      <td>Armed clash</td>\n",
       "      <td>KNU/KNLA: Karen National Union/Karen National ...</td>\n",
       "      <td>Military Forces of Myanmar (2021-)</td>\n",
       "      <td>State forces-Rebel group</td>\n",
       "      <td>Southeast Asia</td>\n",
       "      <td>Myanmar</td>\n",
       "      <td>40</td>\n",
       "      <td>On 31 March 2024, near Maung Mei Shaung villag...</td>\n",
       "      <td>NaN</td>\n",
       "      <td>0</td>\n",
       "      <td>A Close-Up View of the Baltimore Bridge Collapse</td>\n",
       "      <td>2024-03-31</td>\n",
       "      <td>From roughly 100 yards away, the site of one o...</td>\n",
       "      <td>https://www.nytimes.com/2024/03/30/us/view-shi...</td>\n",
       "      <td>11775</td>\n",
       "      <td>0</td>\n",
       "    </tr>\n",
       "  </tbody>\n",
       "</table>\n",
       "</div>"
      ],
      "text/plain": [
       "      event_date  year       disorder_type event_type sub_event_type  \\\n",
       "11774 2024-03-31  2024  Political violence    Battles    Armed clash   \n",
       "11775 2024-03-31  2024  Political violence    Battles    Armed clash   \n",
       "\n",
       "                                                  actor1  \\\n",
       "11774  KNU/KNLA: Karen National Union/Karen National ...   \n",
       "11775  KNU/KNLA: Karen National Union/Karen National ...   \n",
       "\n",
       "                                   actor2               interaction  \\\n",
       "11774  Military Forces of Myanmar (2021-)  State forces-Rebel group   \n",
       "11775  Military Forces of Myanmar (2021-)  State forces-Rebel group   \n",
       "\n",
       "               region  country  fatalities  \\\n",
       "11774  Southeast Asia  Myanmar          40   \n",
       "11775  Southeast Asia  Myanmar          40   \n",
       "\n",
       "                                                   notes tags  event_index  \\\n",
       "11774  On 31 March 2024, near Maung Mei Shaung villag...  NaN            0   \n",
       "11775  On 31 March 2024, near Maung Mei Shaung villag...  NaN            0   \n",
       "\n",
       "                                               nyt_title   nyt_date  \\\n",
       "11774  Chance Perdomo, Star of ‘Chilling Adventures o... 2024-03-31   \n",
       "11775   A Close-Up View of the Baltimore Bridge Collapse 2024-03-31   \n",
       "\n",
       "                                            nyt_abstract  \\\n",
       "11774  Mr. Perdomo, who died in a motorcycle accident...   \n",
       "11775  From roughly 100 yards away, the site of one o...   \n",
       "\n",
       "                                                 nyt_url  news_index  \\\n",
       "11774  https://www.nytimes.com/2024/03/30/arts/televi...       11774   \n",
       "11775  https://www.nytimes.com/2024/03/30/us/view-shi...       11775   \n",
       "\n",
       "       date_diff  \n",
       "11774          0  \n",
       "11775          0  "
      ]
     },
     "execution_count": 114,
     "metadata": {},
     "output_type": "execute_result"
    }
   ],
   "source": [
    "# checking out cross join\n",
    "merged_df.head(2)"
   ]
  },
  {
   "cell_type": "code",
   "execution_count": 113,
   "id": "e3182469",
   "metadata": {},
   "outputs": [
    {
     "data": {
      "text/plain": [
       "183469"
      ]
     },
     "execution_count": 113,
     "metadata": {},
     "output_type": "execute_result"
    }
   ],
   "source": [
    "#nrows\n",
    "len(merged_df)"
   ]
  },
  {
   "cell_type": "markdown",
   "id": "35eb8a13",
   "metadata": {},
   "source": [
    "### Looping through each row of merged dataframe and grabbing cos sims"
   ]
  },
  {
   "cell_type": "code",
   "execution_count": 121,
   "id": "b816ff92",
   "metadata": {},
   "outputs": [],
   "source": [
    "merged_df_with_similarities = merged_df.assign(cosine_sim = lambda x: cossim_news_events[x['news_index'], x['event_index']])"
   ]
  },
  {
   "cell_type": "code",
   "execution_count": 126,
   "id": "cedc4a2c",
   "metadata": {},
   "outputs": [
    {
     "data": {
      "text/html": [
       "<div>\n",
       "<style scoped>\n",
       "    .dataframe tbody tr th:only-of-type {\n",
       "        vertical-align: middle;\n",
       "    }\n",
       "\n",
       "    .dataframe tbody tr th {\n",
       "        vertical-align: top;\n",
       "    }\n",
       "\n",
       "    .dataframe thead th {\n",
       "        text-align: right;\n",
       "    }\n",
       "</style>\n",
       "<table border=\"1\" class=\"dataframe\">\n",
       "  <thead>\n",
       "    <tr style=\"text-align: right;\">\n",
       "      <th></th>\n",
       "      <th>event_date</th>\n",
       "      <th>year</th>\n",
       "      <th>disorder_type</th>\n",
       "      <th>event_type</th>\n",
       "      <th>sub_event_type</th>\n",
       "      <th>actor1</th>\n",
       "      <th>actor2</th>\n",
       "      <th>interaction</th>\n",
       "      <th>region</th>\n",
       "      <th>country</th>\n",
       "      <th>...</th>\n",
       "      <th>notes</th>\n",
       "      <th>tags</th>\n",
       "      <th>event_index</th>\n",
       "      <th>nyt_title</th>\n",
       "      <th>nyt_date</th>\n",
       "      <th>nyt_abstract</th>\n",
       "      <th>nyt_url</th>\n",
       "      <th>news_index</th>\n",
       "      <th>date_diff</th>\n",
       "      <th>cosine_sim</th>\n",
       "    </tr>\n",
       "  </thead>\n",
       "  <tbody>\n",
       "    <tr>\n",
       "      <th>11774</th>\n",
       "      <td>2024-03-31</td>\n",
       "      <td>2024</td>\n",
       "      <td>Political violence</td>\n",
       "      <td>Battles</td>\n",
       "      <td>Armed clash</td>\n",
       "      <td>KNU/KNLA: Karen National Union/Karen National ...</td>\n",
       "      <td>Military Forces of Myanmar (2021-)</td>\n",
       "      <td>State forces-Rebel group</td>\n",
       "      <td>Southeast Asia</td>\n",
       "      <td>Myanmar</td>\n",
       "      <td>...</td>\n",
       "      <td>On 31 March 2024, near Maung Mei Shaung villag...</td>\n",
       "      <td>NaN</td>\n",
       "      <td>0</td>\n",
       "      <td>Chance Perdomo, Star of ‘Chilling Adventures o...</td>\n",
       "      <td>2024-03-31</td>\n",
       "      <td>Mr. Perdomo, who died in a motorcycle accident...</td>\n",
       "      <td>https://www.nytimes.com/2024/03/30/arts/televi...</td>\n",
       "      <td>11774</td>\n",
       "      <td>0</td>\n",
       "      <td>0.014210</td>\n",
       "    </tr>\n",
       "    <tr>\n",
       "      <th>11775</th>\n",
       "      <td>2024-03-31</td>\n",
       "      <td>2024</td>\n",
       "      <td>Political violence</td>\n",
       "      <td>Battles</td>\n",
       "      <td>Armed clash</td>\n",
       "      <td>KNU/KNLA: Karen National Union/Karen National ...</td>\n",
       "      <td>Military Forces of Myanmar (2021-)</td>\n",
       "      <td>State forces-Rebel group</td>\n",
       "      <td>Southeast Asia</td>\n",
       "      <td>Myanmar</td>\n",
       "      <td>...</td>\n",
       "      <td>On 31 March 2024, near Maung Mei Shaung villag...</td>\n",
       "      <td>NaN</td>\n",
       "      <td>0</td>\n",
       "      <td>A Close-Up View of the Baltimore Bridge Collapse</td>\n",
       "      <td>2024-03-31</td>\n",
       "      <td>From roughly 100 yards away, the site of one o...</td>\n",
       "      <td>https://www.nytimes.com/2024/03/30/us/view-shi...</td>\n",
       "      <td>11775</td>\n",
       "      <td>0</td>\n",
       "      <td>0.166382</td>\n",
       "    </tr>\n",
       "  </tbody>\n",
       "</table>\n",
       "<p>2 rows × 21 columns</p>\n",
       "</div>"
      ],
      "text/plain": [
       "      event_date  year       disorder_type event_type sub_event_type  \\\n",
       "11774 2024-03-31  2024  Political violence    Battles    Armed clash   \n",
       "11775 2024-03-31  2024  Political violence    Battles    Armed clash   \n",
       "\n",
       "                                                  actor1  \\\n",
       "11774  KNU/KNLA: Karen National Union/Karen National ...   \n",
       "11775  KNU/KNLA: Karen National Union/Karen National ...   \n",
       "\n",
       "                                   actor2               interaction  \\\n",
       "11774  Military Forces of Myanmar (2021-)  State forces-Rebel group   \n",
       "11775  Military Forces of Myanmar (2021-)  State forces-Rebel group   \n",
       "\n",
       "               region  country  ...  \\\n",
       "11774  Southeast Asia  Myanmar  ...   \n",
       "11775  Southeast Asia  Myanmar  ...   \n",
       "\n",
       "                                                   notes tags event_index  \\\n",
       "11774  On 31 March 2024, near Maung Mei Shaung villag...  NaN           0   \n",
       "11775  On 31 March 2024, near Maung Mei Shaung villag...  NaN           0   \n",
       "\n",
       "                                               nyt_title   nyt_date  \\\n",
       "11774  Chance Perdomo, Star of ‘Chilling Adventures o... 2024-03-31   \n",
       "11775   A Close-Up View of the Baltimore Bridge Collapse 2024-03-31   \n",
       "\n",
       "                                            nyt_abstract  \\\n",
       "11774  Mr. Perdomo, who died in a motorcycle accident...   \n",
       "11775  From roughly 100 yards away, the site of one o...   \n",
       "\n",
       "                                                 nyt_url news_index  \\\n",
       "11774  https://www.nytimes.com/2024/03/30/arts/televi...      11774   \n",
       "11775  https://www.nytimes.com/2024/03/30/us/view-shi...      11775   \n",
       "\n",
       "       date_diff  cosine_sim  \n",
       "11774          0    0.014210  \n",
       "11775          0    0.166382  \n",
       "\n",
       "[2 rows x 21 columns]"
      ]
     },
     "execution_count": 126,
     "metadata": {},
     "output_type": "execute_result"
    }
   ],
   "source": [
    "# checking out merged df after \n",
    "\n",
    "merged_df_with_similarities.head(2)\n",
    "# print(cossim_news_events[11775, 0])"
   ]
  },
  {
   "cell_type": "markdown",
   "id": "67476e14",
   "metadata": {},
   "source": [
    "## Exportin "
   ]
  },
  {
   "cell_type": "code",
   "execution_count": 128,
   "id": "0f9dc4f6",
   "metadata": {},
   "outputs": [],
   "source": [
    "merged_df_with_similarities.to_csv(f\"data/mst/01_event_news_similarity_build.csv\", index = False)"
   ]
  },
  {
   "cell_type": "markdown",
   "id": "18e54685",
   "metadata": {},
   "source": [
    "# Scratch"
   ]
  },
  {
   "cell_type": "code",
   "execution_count": 119,
   "id": "a4319ee7",
   "metadata": {},
   "outputs": [],
   "source": [
    "cosine_scores = []\n",
    "\n",
    "for i, row in merged_df.head(10).iterrows():\n",
    "    news_index = row['news_index']\n",
    "    \n",
    "    event_index = row['event_index']\n",
    "    \n",
    "    # print(f\"matching news item {news_index} with event_item {event_index}\")\n",
    "    \n",
    "    cosine_scores.append(cossim_news_events[news_index, event_index])\n",
    "    "
   ]
  },
  {
   "cell_type": "code",
   "execution_count": 81,
   "id": "49acb55f",
   "metadata": {},
   "outputs": [
    {
     "data": {
      "text/plain": [
       "0.9759000729485332"
      ]
     },
     "execution_count": 81,
     "metadata": {},
     "output_type": "execute_result"
    }
   ],
   "source": [
    "\n",
    "X = [[0, 0, 0], [1, 1, 1], [1,2,3], [1,2,3]]\n",
    "Y = [[1, 0, 0], [1, 1, 0], [1,2,3], [1,2,5]]\n",
    "test_cos = cosine_similarity(X, Y)\n",
    "\n",
    "test_cos[3,3]"
   ]
  },
  {
   "cell_type": "markdown",
   "id": "1a112885",
   "metadata": {},
   "source": [
    "### Creating sentence embeddings for NYT abstracts and event descriptions, and then compute cosines"
   ]
  },
  {
   "cell_type": "code",
   "execution_count": 38,
   "id": "93922564",
   "metadata": {},
   "outputs": [],
   "source": [
    "def embed_and_match(df, news_col='nyt_abstract', event_col='notes'):\n",
    "    \"\"\"\n",
    "    Add a column indicating whether the abstract and notes likely refer to the same event.\n",
    "    \n",
    "    Parameters:\n",
    "        df (pd.DataFrame): Input DataFrame with abstract and notes columns.\n",
    "        abstract_col (str): Name of the NYT abstract column.\n",
    "        notes_col (str): Name of the event notes column.\n",
    "        match_score (numeric): Cosine similarity of news/notes sentence embeddings\n",
    "\n",
    "    Returns:\n",
    "        pd.DataFrame: With added 'match_score' col.\n",
    "    \"\"\"\n",
    "    model = SentenceTransformer('all-MiniLM-L6-v2')\n",
    "\n",
    "    # Encode both text columns\n",
    "    abstracts = df[news_col].fillna(\"\").tolist()\n",
    "    notes = df[event_col].fillna(\"\").tolist()\n",
    "\n",
    "    emb_abstracts = model.encode(abstracts, convert_to_tensor=True)\n",
    "    emb_notes = model.encode(notes, convert_to_tensor=True)\n",
    "\n",
    "    # Compute cosine similarities\n",
    "    similarities = util.cos_sim(emb_abstracts, emb_notes).diagonal()\n",
    "\n",
    "    df['match_score'] = similarities.cpu().numpy()\n",
    "\n",
    "    return df\n"
   ]
  },
  {
   "cell_type": "code",
   "execution_count": 20,
   "id": "41343301",
   "metadata": {
    "scrolled": true
   },
   "outputs": [
    {
     "name": "stderr",
     "output_type": "stream",
     "text": [
      "/var/folders/j7/79hr95hd7kb_3g8vc4y594bc0000gn/T/ipykernel_85237/1991179625.py:26: SettingWithCopyWarning: \n",
      "A value is trying to be set on a copy of a slice from a DataFrame.\n",
      "Try using .loc[row_indexer,col_indexer] = value instead\n",
      "\n",
      "See the caveats in the documentation: https://pandas.pydata.org/pandas-docs/stable/user_guide/indexing.html#returning-a-view-versus-a-copy\n",
      "  df['match_score'] = similarities.cpu().numpy()\n"
     ]
    }
   ],
   "source": [
    "# applying the fn\n",
    "\n",
    "merged_df_sim = embed_and_match(merged_df.head(100))"
   ]
  },
  {
   "cell_type": "code",
   "execution_count": 22,
   "id": "3fc025ca",
   "metadata": {},
   "outputs": [
    {
     "data": {
      "text/html": [
       "<div>\n",
       "<style scoped>\n",
       "    .dataframe tbody tr th:only-of-type {\n",
       "        vertical-align: middle;\n",
       "    }\n",
       "\n",
       "    .dataframe tbody tr th {\n",
       "        vertical-align: top;\n",
       "    }\n",
       "\n",
       "    .dataframe thead th {\n",
       "        text-align: right;\n",
       "    }\n",
       "</style>\n",
       "<table border=\"1\" class=\"dataframe\">\n",
       "  <thead>\n",
       "    <tr style=\"text-align: right;\">\n",
       "      <th></th>\n",
       "      <th>event_date</th>\n",
       "      <th>year</th>\n",
       "      <th>disorder_type</th>\n",
       "      <th>event_type</th>\n",
       "      <th>sub_event_type</th>\n",
       "      <th>actor1</th>\n",
       "      <th>actor2</th>\n",
       "      <th>interaction</th>\n",
       "      <th>region</th>\n",
       "      <th>country</th>\n",
       "      <th>fatalities</th>\n",
       "      <th>notes</th>\n",
       "      <th>tags</th>\n",
       "      <th>nyt_title</th>\n",
       "      <th>nyt_date</th>\n",
       "      <th>nyt_abstract</th>\n",
       "      <th>nyt_url</th>\n",
       "      <th>date_diff</th>\n",
       "      <th>match_score</th>\n",
       "    </tr>\n",
       "  </thead>\n",
       "  <tbody>\n",
       "    <tr>\n",
       "      <th>0</th>\n",
       "      <td>2024-03-31</td>\n",
       "      <td>2024</td>\n",
       "      <td>Political violence</td>\n",
       "      <td>Battles</td>\n",
       "      <td>Armed clash</td>\n",
       "      <td>KNU/KNLA: Karen National Union/Karen National ...</td>\n",
       "      <td>Military Forces of Myanmar (2021-)</td>\n",
       "      <td>State forces-Rebel group</td>\n",
       "      <td>Southeast Asia</td>\n",
       "      <td>Myanmar</td>\n",
       "      <td>40</td>\n",
       "      <td>On 31 March 2024, near Maung Mei Shaung villag...</td>\n",
       "      <td>NaN</td>\n",
       "      <td>PGA Tour and Saudi-Backed LIV Extend Deadline ...</td>\n",
       "      <td>2024-01-01</td>\n",
       "      <td>The tentative deal for the men’s golf circuits...</td>\n",
       "      <td>https://www.nytimes.com/2023/12/31/business/de...</td>\n",
       "      <td>-90</td>\n",
       "      <td>0.031312</td>\n",
       "    </tr>\n",
       "    <tr>\n",
       "      <th>1</th>\n",
       "      <td>2024-03-31</td>\n",
       "      <td>2024</td>\n",
       "      <td>Political violence</td>\n",
       "      <td>Battles</td>\n",
       "      <td>Armed clash</td>\n",
       "      <td>KNU/KNLA: Karen National Union/Karen National ...</td>\n",
       "      <td>Military Forces of Myanmar (2021-)</td>\n",
       "      <td>State forces-Rebel group</td>\n",
       "      <td>Southeast Asia</td>\n",
       "      <td>Myanmar</td>\n",
       "      <td>40</td>\n",
       "      <td>On 31 March 2024, near Maung Mei Shaung villag...</td>\n",
       "      <td>NaN</td>\n",
       "      <td>Something to Whistle</td>\n",
       "      <td>2024-01-01</td>\n",
       "      <td>Harry Zheng makes his New York Times debut.</td>\n",
       "      <td>https://www.nytimes.com/2023/12/31/crosswords/...</td>\n",
       "      <td>-90</td>\n",
       "      <td>-0.045963</td>\n",
       "    </tr>\n",
       "    <tr>\n",
       "      <th>2</th>\n",
       "      <td>2024-03-31</td>\n",
       "      <td>2024</td>\n",
       "      <td>Political violence</td>\n",
       "      <td>Battles</td>\n",
       "      <td>Armed clash</td>\n",
       "      <td>KNU/KNLA: Karen National Union/Karen National ...</td>\n",
       "      <td>Military Forces of Myanmar (2021-)</td>\n",
       "      <td>State forces-Rebel group</td>\n",
       "      <td>Southeast Asia</td>\n",
       "      <td>Myanmar</td>\n",
       "      <td>40</td>\n",
       "      <td>On 31 March 2024, near Maung Mei Shaung villag...</td>\n",
       "      <td>NaN</td>\n",
       "      <td>U.S. Helicopters Sink 3 Houthi Boats in Red Se...</td>\n",
       "      <td>2024-01-01</td>\n",
       "      <td>Iranian-backed Houthi gunmen from Yemen had fi...</td>\n",
       "      <td>https://www.nytimes.com/2023/12/31/world/middl...</td>\n",
       "      <td>-90</td>\n",
       "      <td>0.245386</td>\n",
       "    </tr>\n",
       "    <tr>\n",
       "      <th>3</th>\n",
       "      <td>2024-03-31</td>\n",
       "      <td>2024</td>\n",
       "      <td>Political violence</td>\n",
       "      <td>Battles</td>\n",
       "      <td>Armed clash</td>\n",
       "      <td>KNU/KNLA: Karen National Union/Karen National ...</td>\n",
       "      <td>Military Forces of Myanmar (2021-)</td>\n",
       "      <td>State forces-Rebel group</td>\n",
       "      <td>Southeast Asia</td>\n",
       "      <td>Myanmar</td>\n",
       "      <td>40</td>\n",
       "      <td>On 31 March 2024, near Maung Mei Shaung villag...</td>\n",
       "      <td>NaN</td>\n",
       "      <td>In Times Square, Hundreds of Thousands Ring In...</td>\n",
       "      <td>2024-01-01</td>\n",
       "      <td>New Year’s celebrations took place as proteste...</td>\n",
       "      <td>https://www.nytimes.com/2023/12/31/nyregion/ti...</td>\n",
       "      <td>-90</td>\n",
       "      <td>0.110684</td>\n",
       "    </tr>\n",
       "    <tr>\n",
       "      <th>4</th>\n",
       "      <td>2024-03-31</td>\n",
       "      <td>2024</td>\n",
       "      <td>Political violence</td>\n",
       "      <td>Battles</td>\n",
       "      <td>Armed clash</td>\n",
       "      <td>KNU/KNLA: Karen National Union/Karen National ...</td>\n",
       "      <td>Military Forces of Myanmar (2021-)</td>\n",
       "      <td>State forces-Rebel group</td>\n",
       "      <td>Southeast Asia</td>\n",
       "      <td>Myanmar</td>\n",
       "      <td>40</td>\n",
       "      <td>On 31 March 2024, near Maung Mei Shaung villag...</td>\n",
       "      <td>NaN</td>\n",
       "      <td>Quotation of the Day: In a Jewish-Arab School,...</td>\n",
       "      <td>2024-01-01</td>\n",
       "      <td>Quotation of the Day for Monday, January 1, 2024.</td>\n",
       "      <td>https://www.nytimes.com/2023/12/31/pageoneplus...</td>\n",
       "      <td>-90</td>\n",
       "      <td>0.115128</td>\n",
       "    </tr>\n",
       "    <tr>\n",
       "      <th>5</th>\n",
       "      <td>2024-03-31</td>\n",
       "      <td>2024</td>\n",
       "      <td>Political violence</td>\n",
       "      <td>Battles</td>\n",
       "      <td>Armed clash</td>\n",
       "      <td>KNU/KNLA: Karen National Union/Karen National ...</td>\n",
       "      <td>Military Forces of Myanmar (2021-)</td>\n",
       "      <td>State forces-Rebel group</td>\n",
       "      <td>Southeast Asia</td>\n",
       "      <td>Myanmar</td>\n",
       "      <td>40</td>\n",
       "      <td>On 31 March 2024, near Maung Mei Shaung villag...</td>\n",
       "      <td>NaN</td>\n",
       "      <td>Half of Gazans Are at Risk of Starving, U.N. W...</td>\n",
       "      <td>2024-01-01</td>\n",
       "      <td>More than 90 percent of Palestinians in the te...</td>\n",
       "      <td>https://www.nytimes.com/2024/01/01/world/middl...</td>\n",
       "      <td>-90</td>\n",
       "      <td>0.036945</td>\n",
       "    </tr>\n",
       "    <tr>\n",
       "      <th>6</th>\n",
       "      <td>2024-03-31</td>\n",
       "      <td>2024</td>\n",
       "      <td>Political violence</td>\n",
       "      <td>Battles</td>\n",
       "      <td>Armed clash</td>\n",
       "      <td>KNU/KNLA: Karen National Union/Karen National ...</td>\n",
       "      <td>Military Forces of Myanmar (2021-)</td>\n",
       "      <td>State forces-Rebel group</td>\n",
       "      <td>Southeast Asia</td>\n",
       "      <td>Myanmar</td>\n",
       "      <td>40</td>\n",
       "      <td>On 31 March 2024, near Maung Mei Shaung villag...</td>\n",
       "      <td>NaN</td>\n",
       "      <td>How to Start the New Year? Keep the Sea Goddes...</td>\n",
       "      <td>2024-01-01</td>\n",
       "      <td>Followers of Afro-Brazilian religions have bee...</td>\n",
       "      <td>https://www.nytimes.com/2024/01/01/world/ameri...</td>\n",
       "      <td>-90</td>\n",
       "      <td>-0.005576</td>\n",
       "    </tr>\n",
       "    <tr>\n",
       "      <th>7</th>\n",
       "      <td>2024-03-31</td>\n",
       "      <td>2024</td>\n",
       "      <td>Political violence</td>\n",
       "      <td>Battles</td>\n",
       "      <td>Armed clash</td>\n",
       "      <td>KNU/KNLA: Karen National Union/Karen National ...</td>\n",
       "      <td>Military Forces of Myanmar (2021-)</td>\n",
       "      <td>State forces-Rebel group</td>\n",
       "      <td>Southeast Asia</td>\n",
       "      <td>Myanmar</td>\n",
       "      <td>40</td>\n",
       "      <td>On 31 March 2024, near Maung Mei Shaung villag...</td>\n",
       "      <td>NaN</td>\n",
       "      <td>What’s Sapping Your Energy?</td>\n",
       "      <td>2024-01-01</td>\n",
       "      <td>Your results will help you figure out how to h...</td>\n",
       "      <td>https://www.nytimes.com/interactive/2024/01/01...</td>\n",
       "      <td>-90</td>\n",
       "      <td>0.028096</td>\n",
       "    </tr>\n",
       "    <tr>\n",
       "      <th>8</th>\n",
       "      <td>2024-03-31</td>\n",
       "      <td>2024</td>\n",
       "      <td>Political violence</td>\n",
       "      <td>Battles</td>\n",
       "      <td>Armed clash</td>\n",
       "      <td>KNU/KNLA: Karen National Union/Karen National ...</td>\n",
       "      <td>Military Forces of Myanmar (2021-)</td>\n",
       "      <td>State forces-Rebel group</td>\n",
       "      <td>Southeast Asia</td>\n",
       "      <td>Myanmar</td>\n",
       "      <td>40</td>\n",
       "      <td>On 31 March 2024, near Maung Mei Shaung villag...</td>\n",
       "      <td>NaN</td>\n",
       "      <td>Day 1: A 5-Minute Trick for More Energy</td>\n",
       "      <td>2024-01-01</td>\n",
       "      <td>Today’s challenge involves a little daytime rest.</td>\n",
       "      <td>https://www.nytimes.com/2024/01/01/well/mind/e...</td>\n",
       "      <td>-90</td>\n",
       "      <td>0.136549</td>\n",
       "    </tr>\n",
       "    <tr>\n",
       "      <th>9</th>\n",
       "      <td>2024-03-31</td>\n",
       "      <td>2024</td>\n",
       "      <td>Political violence</td>\n",
       "      <td>Battles</td>\n",
       "      <td>Armed clash</td>\n",
       "      <td>KNU/KNLA: Karen National Union/Karen National ...</td>\n",
       "      <td>Military Forces of Myanmar (2021-)</td>\n",
       "      <td>State forces-Rebel group</td>\n",
       "      <td>Southeast Asia</td>\n",
       "      <td>Myanmar</td>\n",
       "      <td>40</td>\n",
       "      <td>On 31 March 2024, near Maung Mei Shaung villag...</td>\n",
       "      <td>NaN</td>\n",
       "      <td>Monday Briefing</td>\n",
       "      <td>2024-01-01</td>\n",
       "      <td>Friction between the U.S. and Israel.</td>\n",
       "      <td>https://www.nytimes.com/2024/01/01/briefing/is...</td>\n",
       "      <td>-90</td>\n",
       "      <td>0.038894</td>\n",
       "    </tr>\n",
       "  </tbody>\n",
       "</table>\n",
       "</div>"
      ],
      "text/plain": [
       "  event_date  year       disorder_type event_type sub_event_type  \\\n",
       "0 2024-03-31  2024  Political violence    Battles    Armed clash   \n",
       "1 2024-03-31  2024  Political violence    Battles    Armed clash   \n",
       "2 2024-03-31  2024  Political violence    Battles    Armed clash   \n",
       "3 2024-03-31  2024  Political violence    Battles    Armed clash   \n",
       "4 2024-03-31  2024  Political violence    Battles    Armed clash   \n",
       "5 2024-03-31  2024  Political violence    Battles    Armed clash   \n",
       "6 2024-03-31  2024  Political violence    Battles    Armed clash   \n",
       "7 2024-03-31  2024  Political violence    Battles    Armed clash   \n",
       "8 2024-03-31  2024  Political violence    Battles    Armed clash   \n",
       "9 2024-03-31  2024  Political violence    Battles    Armed clash   \n",
       "\n",
       "                                              actor1  \\\n",
       "0  KNU/KNLA: Karen National Union/Karen National ...   \n",
       "1  KNU/KNLA: Karen National Union/Karen National ...   \n",
       "2  KNU/KNLA: Karen National Union/Karen National ...   \n",
       "3  KNU/KNLA: Karen National Union/Karen National ...   \n",
       "4  KNU/KNLA: Karen National Union/Karen National ...   \n",
       "5  KNU/KNLA: Karen National Union/Karen National ...   \n",
       "6  KNU/KNLA: Karen National Union/Karen National ...   \n",
       "7  KNU/KNLA: Karen National Union/Karen National ...   \n",
       "8  KNU/KNLA: Karen National Union/Karen National ...   \n",
       "9  KNU/KNLA: Karen National Union/Karen National ...   \n",
       "\n",
       "                               actor2               interaction  \\\n",
       "0  Military Forces of Myanmar (2021-)  State forces-Rebel group   \n",
       "1  Military Forces of Myanmar (2021-)  State forces-Rebel group   \n",
       "2  Military Forces of Myanmar (2021-)  State forces-Rebel group   \n",
       "3  Military Forces of Myanmar (2021-)  State forces-Rebel group   \n",
       "4  Military Forces of Myanmar (2021-)  State forces-Rebel group   \n",
       "5  Military Forces of Myanmar (2021-)  State forces-Rebel group   \n",
       "6  Military Forces of Myanmar (2021-)  State forces-Rebel group   \n",
       "7  Military Forces of Myanmar (2021-)  State forces-Rebel group   \n",
       "8  Military Forces of Myanmar (2021-)  State forces-Rebel group   \n",
       "9  Military Forces of Myanmar (2021-)  State forces-Rebel group   \n",
       "\n",
       "           region  country  fatalities  \\\n",
       "0  Southeast Asia  Myanmar          40   \n",
       "1  Southeast Asia  Myanmar          40   \n",
       "2  Southeast Asia  Myanmar          40   \n",
       "3  Southeast Asia  Myanmar          40   \n",
       "4  Southeast Asia  Myanmar          40   \n",
       "5  Southeast Asia  Myanmar          40   \n",
       "6  Southeast Asia  Myanmar          40   \n",
       "7  Southeast Asia  Myanmar          40   \n",
       "8  Southeast Asia  Myanmar          40   \n",
       "9  Southeast Asia  Myanmar          40   \n",
       "\n",
       "                                               notes tags  \\\n",
       "0  On 31 March 2024, near Maung Mei Shaung villag...  NaN   \n",
       "1  On 31 March 2024, near Maung Mei Shaung villag...  NaN   \n",
       "2  On 31 March 2024, near Maung Mei Shaung villag...  NaN   \n",
       "3  On 31 March 2024, near Maung Mei Shaung villag...  NaN   \n",
       "4  On 31 March 2024, near Maung Mei Shaung villag...  NaN   \n",
       "5  On 31 March 2024, near Maung Mei Shaung villag...  NaN   \n",
       "6  On 31 March 2024, near Maung Mei Shaung villag...  NaN   \n",
       "7  On 31 March 2024, near Maung Mei Shaung villag...  NaN   \n",
       "8  On 31 March 2024, near Maung Mei Shaung villag...  NaN   \n",
       "9  On 31 March 2024, near Maung Mei Shaung villag...  NaN   \n",
       "\n",
       "                                           nyt_title   nyt_date  \\\n",
       "0  PGA Tour and Saudi-Backed LIV Extend Deadline ... 2024-01-01   \n",
       "1                               Something to Whistle 2024-01-01   \n",
       "2  U.S. Helicopters Sink 3 Houthi Boats in Red Se... 2024-01-01   \n",
       "3  In Times Square, Hundreds of Thousands Ring In... 2024-01-01   \n",
       "4  Quotation of the Day: In a Jewish-Arab School,... 2024-01-01   \n",
       "5  Half of Gazans Are at Risk of Starving, U.N. W... 2024-01-01   \n",
       "6  How to Start the New Year? Keep the Sea Goddes... 2024-01-01   \n",
       "7                        What’s Sapping Your Energy? 2024-01-01   \n",
       "8            Day 1: A 5-Minute Trick for More Energy 2024-01-01   \n",
       "9                                    Monday Briefing 2024-01-01   \n",
       "\n",
       "                                        nyt_abstract  \\\n",
       "0  The tentative deal for the men’s golf circuits...   \n",
       "1        Harry Zheng makes his New York Times debut.   \n",
       "2  Iranian-backed Houthi gunmen from Yemen had fi...   \n",
       "3  New Year’s celebrations took place as proteste...   \n",
       "4  Quotation of the Day for Monday, January 1, 2024.   \n",
       "5  More than 90 percent of Palestinians in the te...   \n",
       "6  Followers of Afro-Brazilian religions have bee...   \n",
       "7  Your results will help you figure out how to h...   \n",
       "8  Today’s challenge involves a little daytime rest.   \n",
       "9              Friction between the U.S. and Israel.   \n",
       "\n",
       "                                             nyt_url  date_diff  match_score  \n",
       "0  https://www.nytimes.com/2023/12/31/business/de...        -90     0.031312  \n",
       "1  https://www.nytimes.com/2023/12/31/crosswords/...        -90    -0.045963  \n",
       "2  https://www.nytimes.com/2023/12/31/world/middl...        -90     0.245386  \n",
       "3  https://www.nytimes.com/2023/12/31/nyregion/ti...        -90     0.110684  \n",
       "4  https://www.nytimes.com/2023/12/31/pageoneplus...        -90     0.115128  \n",
       "5  https://www.nytimes.com/2024/01/01/world/middl...        -90     0.036945  \n",
       "6  https://www.nytimes.com/2024/01/01/world/ameri...        -90    -0.005576  \n",
       "7  https://www.nytimes.com/interactive/2024/01/01...        -90     0.028096  \n",
       "8  https://www.nytimes.com/2024/01/01/well/mind/e...        -90     0.136549  \n",
       "9  https://www.nytimes.com/2024/01/01/briefing/is...        -90     0.038894  "
      ]
     },
     "execution_count": 22,
     "metadata": {},
     "output_type": "execute_result"
    }
   ],
   "source": [
    "merged_df_sim.head(10)"
   ]
  },
  {
   "cell_type": "code",
   "execution_count": 45,
   "id": "a0620ec8",
   "metadata": {},
   "outputs": [
    {
     "data": {
      "text/plain": [
       "array([-7.69370748e-03, -4.57484238e-02, -5.64977992e-03, -2.02745814e-02,\n",
       "       -4.23186049e-02,  2.65126433e-02,  9.64816380e-03, -9.83617548e-03,\n",
       "        7.22916797e-03, -3.89896631e-02,  4.58503654e-03,  6.54589906e-02,\n",
       "       -8.20511952e-02,  1.24800600e-01,  1.70991626e-02,  5.32262102e-02,\n",
       "        6.18778206e-02, -3.82934846e-02,  5.59193008e-02, -7.00050592e-02,\n",
       "        2.94650029e-02, -4.53616716e-02,  7.30262548e-02, -3.31542082e-02,\n",
       "        1.38780251e-02, -9.75425988e-02,  3.04665081e-02, -1.75592601e-02,\n",
       "        7.41885453e-02, -1.94415972e-02, -6.93988577e-02,  2.94309156e-03,\n",
       "       -3.19849029e-02, -2.70380042e-02, -2.09607743e-02, -1.33955455e-03,\n",
       "        8.22129548e-02,  6.84462190e-02,  4.37879041e-02,  3.82863395e-02,\n",
       "        9.13516730e-02, -6.63274666e-03, -5.57915866e-02,  9.30275768e-02,\n",
       "       -2.84316260e-02, -2.94858981e-02,  3.26012745e-02,  8.18612576e-02,\n",
       "       -1.40785528e-02,  3.61860730e-02, -8.80929269e-03,  8.55615595e-04,\n",
       "       -3.83882001e-02, -1.03259586e-01,  4.58966717e-02, -1.09444782e-02,\n",
       "        5.03681879e-03,  5.01574129e-02,  4.61439043e-03, -6.63369372e-02,\n",
       "       -1.78601407e-02,  2.45854519e-02, -4.99438029e-03,  5.09246960e-02,\n",
       "        8.18414837e-02,  2.80619841e-02, -5.09438924e-02,  5.59010170e-02,\n",
       "       -9.59754884e-02, -2.03974396e-02, -5.91041371e-02,  6.14675730e-02,\n",
       "        2.57342849e-02,  5.27389757e-02, -3.22010741e-02, -6.47479445e-02,\n",
       "       -3.09027694e-02,  3.22510488e-02, -7.26661179e-03,  6.41906485e-02,\n",
       "        5.65308742e-02, -3.53635103e-02, -2.33212803e-02,  1.84289888e-02,\n",
       "       -7.35815382e-03,  3.96763347e-02, -3.47268879e-02,  6.19640760e-02,\n",
       "       -4.01065648e-02, -5.82482256e-02, -1.00077270e-02,  5.97731993e-02,\n",
       "       -3.68273593e-02,  5.52139729e-02, -8.64243060e-02,  1.18166497e-02,\n",
       "        6.82024704e-03,  8.33105668e-02, -2.70742010e-02,  1.25187552e-02,\n",
       "        2.64392421e-02, -2.59910319e-02,  6.95083737e-02,  7.44327530e-02,\n",
       "       -1.76574671e-04, -3.92998084e-02, -2.95090154e-02,  3.73583683e-03,\n",
       "       -9.59833327e-04,  8.37182924e-02, -6.27899468e-02,  1.02498859e-01,\n",
       "       -6.63400590e-02, -4.13258895e-02,  9.62102320e-03, -6.60005137e-02,\n",
       "       -8.15063044e-02,  7.51686618e-02, -1.13128731e-02, -5.35697192e-02,\n",
       "        4.52378206e-02,  7.56492540e-02, -8.70682895e-02, -4.84398305e-02,\n",
       "       -1.09378502e-01,  6.72899000e-03, -2.30860268e-03, -1.32211606e-33,\n",
       "        5.23264334e-02,  5.15511855e-02,  7.91039467e-02,  6.97483644e-02,\n",
       "       -1.73685737e-02,  4.38396027e-03, -1.30341118e-02, -3.45173776e-02,\n",
       "       -1.25158932e-02, -4.91792932e-02,  8.99178348e-03,  2.04154127e-03,\n",
       "        1.31777478e-02, -5.87183535e-02, -1.55536653e-02,  9.76746529e-03,\n",
       "        4.59635537e-03, -1.40526053e-02,  4.79994826e-02, -2.78314333e-02,\n",
       "        1.50249898e-02,  2.61228234e-02, -2.99051143e-02, -7.96201080e-03,\n",
       "       -7.99504295e-02,  6.25234796e-03,  2.38295812e-02, -5.76963238e-02,\n",
       "       -4.79335003e-02, -2.18402757e-03, -2.19911709e-02, -1.81919895e-02,\n",
       "       -1.07982568e-01, -2.27799788e-02,  5.30749513e-03, -1.33620240e-02,\n",
       "       -1.87640432e-02, -5.61360642e-02,  7.99656808e-02, -5.03127426e-02,\n",
       "        4.76751775e-02,  3.61367688e-02,  2.19726302e-02, -1.78708378e-02,\n",
       "       -4.55556624e-02,  3.72380167e-02, -8.53513852e-02, -1.21694244e-02,\n",
       "        1.36946395e-01,  1.39353061e-02, -5.40937372e-02, -1.91927794e-02,\n",
       "       -2.06646081e-02, -1.59147345e-02,  1.75096244e-02, -2.24619359e-02,\n",
       "        2.42377492e-03, -8.07875618e-02,  1.71164218e-02,  9.93436296e-03,\n",
       "       -3.68035659e-02,  1.37144476e-02, -6.84822276e-02,  1.36941493e-01,\n",
       "       -1.10026293e-01, -4.03618847e-04,  1.82456300e-02,  4.41412814e-03,\n",
       "       -2.40496006e-02,  2.80067604e-02, -1.08850319e-02,  2.39228103e-02,\n",
       "       -3.63039002e-02, -9.85861272e-02, -1.06152175e-02, -3.47241387e-02,\n",
       "        5.47529571e-02, -4.35772352e-02, -2.31044162e-02,  6.36944687e-03,\n",
       "       -5.46192378e-03, -1.27780754e-02,  7.25129098e-02, -3.23780477e-02,\n",
       "       -1.39803486e-02, -4.32564691e-03,  2.11332664e-02,  4.75899242e-02,\n",
       "        2.75668669e-02,  8.93315524e-02, -1.24626504e-02, -5.87541945e-02,\n",
       "        1.92256570e-02,  1.37829702e-04, -5.05915023e-02, -1.17191571e-33,\n",
       "       -1.01214126e-01, -4.80671898e-02,  1.06141590e-01, -6.02829494e-02,\n",
       "        6.66115526e-03, -6.25079274e-02,  1.34400353e-02,  1.11805387e-01,\n",
       "        4.52434793e-02,  1.01714469e-02, -7.19930697e-03,  3.39515181e-03,\n",
       "        6.65670261e-02,  5.66901378e-02, -3.06741260e-02,  8.39464143e-02,\n",
       "        4.21233177e-02, -3.43558192e-02, -6.18303055e-03, -5.50165772e-03,\n",
       "        6.77282140e-02, -5.30383326e-02, -5.31217717e-02, -6.85139000e-02,\n",
       "       -2.29548868e-02,  2.55589169e-02,  1.09773390e-01, -4.71829902e-03,\n",
       "       -9.57039818e-02,  2.54686922e-02, -3.23467068e-02, -3.93790565e-02,\n",
       "       -6.01678193e-02,  3.74149904e-02, -1.90416966e-02,  6.23832038e-03,\n",
       "       -5.90817295e-02, -3.35277058e-02,  3.89297381e-02, -2.89631411e-02,\n",
       "       -3.79350386e-03,  2.62211803e-02, -1.87290423e-02,  4.26919684e-02,\n",
       "        1.96283404e-02,  4.50147726e-02, -2.89996918e-02,  1.93994194e-02,\n",
       "       -2.57397611e-02,  2.89341453e-02, -3.59049849e-02,  6.77769035e-02,\n",
       "       -3.01350970e-02, -2.75643263e-02, -8.06387812e-02,  1.00715104e-02,\n",
       "       -3.38272080e-02,  4.22882236e-04,  1.83459593e-03,  3.57584184e-04,\n",
       "       -7.80552551e-02,  8.06307942e-02, -1.35541325e-02,  1.54573396e-02,\n",
       "       -8.08562152e-03, -4.83234823e-02, -2.70014331e-02,  8.92849714e-02,\n",
       "       -2.25313157e-02, -6.80842698e-02,  5.45229986e-02,  9.51780006e-02,\n",
       "       -7.66751468e-02, -9.39231962e-02, -8.66475254e-02,  9.48853865e-02,\n",
       "        2.34802496e-02,  5.22101484e-02, -4.22295183e-02,  7.58062825e-02,\n",
       "       -2.27787881e-03,  7.86051750e-02,  2.81894393e-03,  1.06772790e-02,\n",
       "       -3.76668610e-02,  3.19118500e-02,  7.65473954e-03, -3.00748236e-02,\n",
       "       -2.66022086e-02,  8.96169920e-04,  7.82155320e-02,  1.60774589e-03,\n",
       "       -6.73047751e-02,  1.06702462e-01,  1.64085869e-02, -1.82009838e-08,\n",
       "       -1.43153787e-01,  4.10979646e-06,  2.25318298e-02, -2.67324764e-02,\n",
       "       -3.76863368e-02,  7.11266603e-03,  1.95500813e-02, -4.78148535e-02,\n",
       "        8.43277723e-02,  1.23256752e-02,  4.55133282e-02, -3.99612561e-02,\n",
       "       -2.60508917e-02,  6.89127818e-02, -1.76463109e-02, -7.80953690e-02,\n",
       "       -5.82287030e-04,  2.75657652e-03, -9.89744207e-04,  1.13444414e-03,\n",
       "       -4.33704145e-02,  3.45407203e-02,  1.38664171e-01, -4.36290447e-03,\n",
       "        9.72959585e-03,  5.15132472e-02, -5.20431623e-02, -1.32798404e-01,\n",
       "        1.74164120e-02,  6.26420835e-03, -3.86814773e-02,  6.49877191e-02,\n",
       "       -5.05357375e-03, -2.82237511e-02, -1.71561707e-02,  1.04626641e-02,\n",
       "       -1.19926957e-02,  4.15288955e-02,  2.65666004e-02,  1.93869583e-02,\n",
       "        3.17285508e-02, -4.38147038e-02,  3.15200388e-02,  5.60958683e-02,\n",
       "        8.42967257e-02, -1.55644733e-02,  9.98596568e-03, -2.91809291e-02,\n",
       "        1.09629638e-01, -7.07793757e-02,  2.85333488e-03, -2.94854660e-02,\n",
       "        9.97715145e-02, -1.57486618e-01, -1.72431953e-02,  7.39898756e-02,\n",
       "       -6.86276332e-02,  7.05308318e-02, -3.67490612e-02, -7.12083504e-02,\n",
       "        1.54109448e-02, -7.62261301e-02,  1.03875965e-01,  6.93247393e-02],\n",
       "      dtype=float32)"
      ]
     },
     "execution_count": 45,
     "metadata": {},
     "output_type": "execute_result"
    }
   ],
   "source": [
    "nyt_embeddings[1]"
   ]
  },
  {
   "cell_type": "code",
   "execution_count": null,
   "id": "a3616b1a",
   "metadata": {},
   "outputs": [],
   "source": []
  }
 ],
 "metadata": {
  "kernelspec": {
   "display_name": "Python 3 (ipykernel)",
   "language": "python",
   "name": "python3"
  },
  "language_info": {
   "codemirror_mode": {
    "name": "ipython",
    "version": 3
   },
   "file_extension": ".py",
   "mimetype": "text/x-python",
   "name": "python",
   "nbconvert_exporter": "python",
   "pygments_lexer": "ipython3",
   "version": "3.8.8"
  }
 },
 "nbformat": 4,
 "nbformat_minor": 5
}
